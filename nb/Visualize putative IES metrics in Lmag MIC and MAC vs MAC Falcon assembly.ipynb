{
 "cells": [
  {
   "cell_type": "markdown",
   "metadata": {},
   "source": [
    "# Visualizing metrics of putative IESs in Loxodes magnus MAC vs MIC\n",
    "\n",
    "\n",
    "Bleties MILRAA used to predict IESs from PacBio HiFi libraries of MIC and MAC, mapped onto the Falcon MAC assembly.\n",
    "\n",
    "We assume that MAC and MIC purification by FACS is not perfect, but nonetheless still yield statistically significant enrichment of respective target nuclei.\n",
    "\n",
    "If these are mostly \"true\" IESs, we expect to see:\n",
    "\n",
    " * More IESs should be predicted in MIC library than MAC\n",
    " * For overlapping predictions, per-IES retention scores shoud be higher in the MIC library than MAC\n",
    "\n",
    "We also expect IES lengths to have non-zero modal values, and if similar to Blepharisma possibly also \"periodic\" length distribution.\n",
    "\n",
    "However, PacBio HiFi libraries for Loxodes magnus have relatively low coverage (~10-20x), so we may have stretches where coverage is insufficient. Nonetheless we can take advantage of the high read accuracy to call indel presence/absence even when coverage is low.\n",
    "\n",
    "Show that most of these putative IESs are actually shared in both the MIC and MAC mappings. Those that appear unique are actually due to insufficient coverage."
   ]
  },
  {
   "cell_type": "code",
   "execution_count": 1,
   "metadata": {},
   "outputs": [],
   "source": [
    "import pandas as pd\n",
    "import matplotlib.pyplot as plt\n",
    "import seaborn as sns\n",
    "import re\n",
    "from collections import defaultdict\n",
    "from scipy import stats\n",
    "from numpy import log10"
   ]
  },
  {
   "cell_type": "code",
   "execution_count": 2,
   "metadata": {},
   "outputs": [],
   "source": [
    "plt.rcParams['figure.dpi'] = 72"
   ]
  },
  {
   "cell_type": "code",
   "execution_count": 87,
   "metadata": {},
   "outputs": [],
   "source": [
    "# Input files\n",
    "mic_bleties_gff_file = '../bleties/LmagMIC.LmagMAC.milraa_ies_fuzzy.no_overlap_repeats.gff3'\n",
    "mac_bleties_gff_file = '../bleties/LmagMAC.LmagMAC.milraa_ies_fuzzy.no_overlap_repeats.gff3'"
   ]
  },
  {
   "cell_type": "markdown",
   "metadata": {},
   "source": [
    "## Import data"
   ]
  },
  {
   "cell_type": "code",
   "execution_count": 3,
   "metadata": {},
   "outputs": [],
   "source": [
    "def gff2df(gff_list, attr_to_extract):\n",
    "    \"\"\"Convert GFF records (list of lists) to pandas data frame\n",
    "    \n",
    "    Also extract specified attributes as additional columns.\n",
    "    \n",
    "    Parameters\n",
    "    ----------\n",
    "    gff_list : list\n",
    "        GFF records as list of lists\n",
    "    attr_to_extract : list\n",
    "        List of attributes to extract from 'attributes' field of GFF\n",
    "    \"\"\"\n",
    "    GFF_COLUMNS = ['seqid','source','type','start','end','score','strand','phase','attributes']\n",
    "    df = pd.DataFrame(gff_list, columns=GFF_COLUMNS)\n",
    "    df['start'] = pd.to_numeric(df['start'])\n",
    "    df['end'] = pd.to_numeric(df['end'])\n",
    "    df['score'] = pd.to_numeric(df['score'])\n",
    "    for attr in attr_to_extract:\n",
    "        df[attr] = df['attributes'].str.extract(rf\"{attr}=([^;]+)\")\n",
    "    return(df)"
   ]
  },
  {
   "cell_type": "code",
   "execution_count": 5,
   "metadata": {},
   "outputs": [],
   "source": [
    "# \"IES\" indels detected by MILRAA from MIC library mapped onto MAC assembly\n",
    "mic_recs = []\n",
    "with open(mic_bleties_gff_file, \"r\") as fh:\n",
    "    for line in fh:\n",
    "        mic_recs.append(line.rstrip().split(\"\\t\"))"
   ]
  },
  {
   "cell_type": "code",
   "execution_count": 6,
   "metadata": {},
   "outputs": [],
   "source": [
    "# \"IES\" indels detected by MILRAA from MAC library mapped onto MAC assembly\n",
    "mac_recs = []\n",
    "with open(mac_bleties_gff_file, \"r\") as fh:\n",
    "    for line in fh:\n",
    "        mac_recs.append(line.rstrip().split(\"\\t\"))"
   ]
  },
  {
   "cell_type": "code",
   "execution_count": 7,
   "metadata": {},
   "outputs": [],
   "source": [
    "mic_df = gff2df(mic_recs, ['ID','IES_length', 'average_coverage', 'cigar'])\n",
    "#mic_df['average_coverage'] = pd.to_numeric(mic_df['average_coverage'])\n",
    "mic_df['lib'] = 'mic'"
   ]
  },
  {
   "cell_type": "code",
   "execution_count": 8,
   "metadata": {},
   "outputs": [],
   "source": [
    "mac_df = gff2df(mac_recs, ['ID','IES_length', 'average_coverage', 'cigar'])\n",
    "#mac_df['average_coverage'] = pd.to_numeric(mac_df['average_coverage'])\n",
    "mac_df['lib'] = 'mac'"
   ]
  },
  {
   "cell_type": "code",
   "execution_count": 11,
   "metadata": {},
   "outputs": [],
   "source": [
    "# Combine MIC and MAC tables\n",
    "ies_df = pd.concat([mic_df, mac_df])"
   ]
  },
  {
   "cell_type": "code",
   "execution_count": 12,
   "metadata": {},
   "outputs": [],
   "source": [
    "ies_df['average_coverage'] = pd.to_numeric(ies_df['average_coverage'])"
   ]
  },
  {
   "cell_type": "code",
   "execution_count": 13,
   "metadata": {},
   "outputs": [
    {
     "data": {
      "text/plain": [
       "'ID=BREAK_POINTS_FUZZY_000000F_194134_194134_861;IES_length=861_859;cigar=861I*2 860I*1 862I*1 863I*1 859I*2;average_coverage=19;pointer_seq=ACAGTTATAAGAAATA;ta_pointer_seq=TATAAGAAATA;ta_pointer_start=194139;ta_pointer_end=194139;'"
      ]
     },
     "execution_count": 13,
     "metadata": {},
     "output_type": "execute_result"
    }
   ],
   "source": [
    "ies_df.head()['attributes'][2]"
   ]
  },
  {
   "cell_type": "code",
   "execution_count": 14,
   "metadata": {},
   "outputs": [],
   "source": [
    "# Check if TA-bound and/or pointer sequence and length\n",
    "ies_df['ta_bound'] = ies_df['attributes'].str.contains('ta_pointer')\n",
    "ies_df['pointer_seq'] = ies_df['attributes'].str.extract(r';pointer_seq\\=([ATCG]+);').fillna('')\n",
    "ies_df['pointer_len'] = ies_df['pointer_seq'].str.len()"
   ]
  },
  {
   "cell_type": "code",
   "execution_count": 15,
   "metadata": {},
   "outputs": [
    {
     "data": {
      "text/html": [
       "<div>\n",
       "<style scoped>\n",
       "    .dataframe tbody tr th:only-of-type {\n",
       "        vertical-align: middle;\n",
       "    }\n",
       "\n",
       "    .dataframe tbody tr th {\n",
       "        vertical-align: top;\n",
       "    }\n",
       "\n",
       "    .dataframe thead th {\n",
       "        text-align: right;\n",
       "    }\n",
       "</style>\n",
       "<table border=\"1\" class=\"dataframe\">\n",
       "  <thead>\n",
       "    <tr style=\"text-align: right;\">\n",
       "      <th></th>\n",
       "      <th>seqid</th>\n",
       "      <th>source</th>\n",
       "      <th>type</th>\n",
       "      <th>start</th>\n",
       "      <th>end</th>\n",
       "      <th>score</th>\n",
       "      <th>strand</th>\n",
       "      <th>phase</th>\n",
       "      <th>attributes</th>\n",
       "      <th>ID</th>\n",
       "      <th>IES_length</th>\n",
       "      <th>average_coverage</th>\n",
       "      <th>cigar</th>\n",
       "      <th>lib</th>\n",
       "      <th>ta_bound</th>\n",
       "      <th>pointer_seq</th>\n",
       "      <th>pointer_len</th>\n",
       "    </tr>\n",
       "  </thead>\n",
       "  <tbody>\n",
       "    <tr>\n",
       "      <th>0</th>\n",
       "      <td>000000F</td>\n",
       "      <td>MILRAA</td>\n",
       "      <td>internal_eliminated_sequence_junction</td>\n",
       "      <td>176</td>\n",
       "      <td>176</td>\n",
       "      <td>0.7222</td>\n",
       "      <td>.</td>\n",
       "      <td>.</td>\n",
       "      <td>ID=BREAK_POINTS_000000F_176_176_30;IES_length=...</td>\n",
       "      <td>BREAK_POINTS_000000F_176_176_30</td>\n",
       "      <td>30</td>\n",
       "      <td>18</td>\n",
       "      <td>30I*13</td>\n",
       "      <td>mic</td>\n",
       "      <td>False</td>\n",
       "      <td></td>\n",
       "      <td>0</td>\n",
       "    </tr>\n",
       "    <tr>\n",
       "      <th>1</th>\n",
       "      <td>000000F</td>\n",
       "      <td>MILRAA</td>\n",
       "      <td>internal_eliminated_sequence_junction</td>\n",
       "      <td>52627</td>\n",
       "      <td>52627</td>\n",
       "      <td>0.4828</td>\n",
       "      <td>.</td>\n",
       "      <td>.</td>\n",
       "      <td>ID=BREAK_POINTS_000000F_52627_52627_36;IES_len...</td>\n",
       "      <td>BREAK_POINTS_000000F_52627_52627_36</td>\n",
       "      <td>36</td>\n",
       "      <td>29</td>\n",
       "      <td>36I*14</td>\n",
       "      <td>mic</td>\n",
       "      <td>False</td>\n",
       "      <td>AGGTT</td>\n",
       "      <td>5</td>\n",
       "    </tr>\n",
       "    <tr>\n",
       "      <th>2</th>\n",
       "      <td>000000F</td>\n",
       "      <td>MILRAA</td>\n",
       "      <td>internal_eliminated_sequence_junction</td>\n",
       "      <td>194134</td>\n",
       "      <td>194134</td>\n",
       "      <td>0.3684</td>\n",
       "      <td>.</td>\n",
       "      <td>.</td>\n",
       "      <td>ID=BREAK_POINTS_FUZZY_000000F_194134_194134_86...</td>\n",
       "      <td>BREAK_POINTS_FUZZY_000000F_194134_194134_861</td>\n",
       "      <td>861_859</td>\n",
       "      <td>19</td>\n",
       "      <td>861I*2 860I*1 862I*1 863I*1 859I*2</td>\n",
       "      <td>mic</td>\n",
       "      <td>True</td>\n",
       "      <td>ACAGTTATAAGAAATA</td>\n",
       "      <td>16</td>\n",
       "    </tr>\n",
       "    <tr>\n",
       "      <th>3</th>\n",
       "      <td>000000F</td>\n",
       "      <td>MILRAA</td>\n",
       "      <td>internal_eliminated_sequence_junction</td>\n",
       "      <td>194748</td>\n",
       "      <td>194748</td>\n",
       "      <td>0.4815</td>\n",
       "      <td>.</td>\n",
       "      <td>.</td>\n",
       "      <td>ID=BREAK_POINTS_FUZZY_000000F_194748_194748_14...</td>\n",
       "      <td>BREAK_POINTS_FUZZY_000000F_194748_194748_146</td>\n",
       "      <td>146</td>\n",
       "      <td>27</td>\n",
       "      <td>145I*1 146I*11 147I*1</td>\n",
       "      <td>mic</td>\n",
       "      <td>False</td>\n",
       "      <td>CAAA</td>\n",
       "      <td>4</td>\n",
       "    </tr>\n",
       "    <tr>\n",
       "      <th>4</th>\n",
       "      <td>000000F</td>\n",
       "      <td>MILRAA</td>\n",
       "      <td>internal_eliminated_sequence_junction</td>\n",
       "      <td>195279</td>\n",
       "      <td>195279</td>\n",
       "      <td>0.3636</td>\n",
       "      <td>.</td>\n",
       "      <td>.</td>\n",
       "      <td>ID=BREAK_POINTS_000000F_195279_195279_15;IES_l...</td>\n",
       "      <td>BREAK_POINTS_000000F_195279_195279_15</td>\n",
       "      <td>15</td>\n",
       "      <td>33</td>\n",
       "      <td>15I*12</td>\n",
       "      <td>mic</td>\n",
       "      <td>True</td>\n",
       "      <td>TA</td>\n",
       "      <td>2</td>\n",
       "    </tr>\n",
       "  </tbody>\n",
       "</table>\n",
       "</div>"
      ],
      "text/plain": [
       "     seqid  source                                   type   start     end  \\\n",
       "0  000000F  MILRAA  internal_eliminated_sequence_junction     176     176   \n",
       "1  000000F  MILRAA  internal_eliminated_sequence_junction   52627   52627   \n",
       "2  000000F  MILRAA  internal_eliminated_sequence_junction  194134  194134   \n",
       "3  000000F  MILRAA  internal_eliminated_sequence_junction  194748  194748   \n",
       "4  000000F  MILRAA  internal_eliminated_sequence_junction  195279  195279   \n",
       "\n",
       "    score strand phase                                         attributes  \\\n",
       "0  0.7222      .     .  ID=BREAK_POINTS_000000F_176_176_30;IES_length=...   \n",
       "1  0.4828      .     .  ID=BREAK_POINTS_000000F_52627_52627_36;IES_len...   \n",
       "2  0.3684      .     .  ID=BREAK_POINTS_FUZZY_000000F_194134_194134_86...   \n",
       "3  0.4815      .     .  ID=BREAK_POINTS_FUZZY_000000F_194748_194748_14...   \n",
       "4  0.3636      .     .  ID=BREAK_POINTS_000000F_195279_195279_15;IES_l...   \n",
       "\n",
       "                                             ID IES_length  average_coverage  \\\n",
       "0               BREAK_POINTS_000000F_176_176_30         30                18   \n",
       "1           BREAK_POINTS_000000F_52627_52627_36         36                29   \n",
       "2  BREAK_POINTS_FUZZY_000000F_194134_194134_861    861_859                19   \n",
       "3  BREAK_POINTS_FUZZY_000000F_194748_194748_146        146                27   \n",
       "4         BREAK_POINTS_000000F_195279_195279_15         15                33   \n",
       "\n",
       "                                cigar  lib  ta_bound       pointer_seq  \\\n",
       "0                              30I*13  mic     False                     \n",
       "1                              36I*14  mic     False             AGGTT   \n",
       "2  861I*2 860I*1 862I*1 863I*1 859I*2  mic      True  ACAGTTATAAGAAATA   \n",
       "3               145I*1 146I*11 147I*1  mic     False              CAAA   \n",
       "4                              15I*12  mic      True                TA   \n",
       "\n",
       "   pointer_len  \n",
       "0            0  \n",
       "1            5  \n",
       "2           16  \n",
       "3            4  \n",
       "4            2  "
      ]
     },
     "execution_count": 15,
     "metadata": {},
     "output_type": "execute_result"
    }
   ],
   "source": [
    "ies_df.head()"
   ]
  },
  {
   "cell_type": "markdown",
   "metadata": {},
   "source": [
    "## Length distribution"
   ]
  },
  {
   "cell_type": "code",
   "execution_count": 16,
   "metadata": {},
   "outputs": [],
   "source": [
    "# Reformat IES lengths which were encoded as underscore-delimited lists \n",
    "# of lengths because there was more than one insert size\n",
    "conv = []\n",
    "for i in ies_df['IES_length']:\n",
    "    i = [int(j) for j in i.split(\"_\")]\n",
    "    if len(i) > 1:\n",
    "        i = float(sum(i) / len(i))\n",
    "    else:\n",
    "        i = i[0]\n",
    "    conv.append(i)\n",
    "ies_df['IES_length'] = conv"
   ]
  },
  {
   "cell_type": "code",
   "execution_count": 17,
   "metadata": {},
   "outputs": [],
   "source": [
    "ies_df['IES_length_log10'] = log10(ies_df['IES_length'])"
   ]
  },
  {
   "cell_type": "code",
   "execution_count": 18,
   "metadata": {},
   "outputs": [
    {
     "data": {
      "text/plain": [
       "lib\n",
       "mac    12897\n",
       "mic    13734\n",
       "dtype: int64"
      ]
     },
     "execution_count": 18,
     "metadata": {},
     "output_type": "execute_result"
    }
   ],
   "source": [
    "# Number of IES predictions per library\n",
    "ies_df.groupby('lib').size()"
   ]
  },
  {
   "cell_type": "markdown",
   "metadata": {},
   "source": [
    "Combine into single plot"
   ]
  },
  {
   "cell_type": "code",
   "execution_count": 19,
   "metadata": {},
   "outputs": [
    {
     "data": {
      "image/png": "[encoded data removed]",
      "text/plain": [
       "<Figure size 440x576 with 2 Axes>"
      ]
     },
     "metadata": {},
     "output_type": "display_data"
    }
   ],
   "source": [
    "# Combine into plot\n",
    "g = sns.FacetGrid(\n",
    "    data=ies_df.query('IES_length<=500'), \n",
    "    row='lib', xlim=(0,500), height=4, aspect=1.5)\n",
    "g.map_dataframe(\n",
    "    sns.histplot,\n",
    "    x='IES_length',\n",
    "    hue='ta_bound', hue_order=[True,False], multiple='stack',\n",
    "    discrete=True, linewidth=0)\n",
    "g.add_legend()\n",
    "g.set_xlabels(\"Putative IES length (bp)\")\n",
    "g.set_ylabels(\"Count\")\n",
    "plt.savefig(\"plots/putative_ies_length_distribution.png\")\n",
    "plt.savefig(\"plots/putative_ies_length_distribution.pdf\")"
   ]
  },
  {
   "cell_type": "code",
   "execution_count": 20,
   "metadata": {},
   "outputs": [
    {
     "data": {
      "image/png": "[encoded data removed]",
      "text/plain": [
       "<Figure size 440x576 with 2 Axes>"
      ]
     },
     "metadata": {},
     "output_type": "display_data"
    }
   ],
   "source": [
    "g = sns.FacetGrid(\n",
    "    data=ies_df.query('IES_length<=100'), \n",
    "    row='lib', \n",
    "    xlim=(10,100), height=4, aspect=1.5)\n",
    "g.map_dataframe(\n",
    "    sns.histplot, \n",
    "    x='IES_length', \n",
    "    hue='ta_bound', hue_order=[True,False], multiple='stack',\n",
    "    discrete=True, linewidth=0)\n",
    "g.add_legend()\n",
    "g.set_xlabels(\"Putative IES length (bp)\")\n",
    "g.set_ylabels(\"Count\")\n",
    "plt.savefig(\"plots/putative_ies_length_distribution_detail.png\")\n",
    "plt.savefig(\"plots/putative_ies_length_distribution_detail.pdf\")"
   ]
  },
  {
   "cell_type": "code",
   "execution_count": 21,
   "metadata": {},
   "outputs": [
    {
     "data": {
      "text/plain": [
       "<seaborn.axisgrid.FacetGrid at 0x7fde8f293760>"
      ]
     },
     "execution_count": 21,
     "metadata": {},
     "output_type": "execute_result"
    },
    {
     "data": {
      "image/png": "[encoded data removed]",
      "text/plain": [
       "<Figure size 440x576 with 2 Axes>"
      ]
     },
     "metadata": {},
     "output_type": "display_data"
    }
   ],
   "source": [
    "# As log scale\n",
    "g = sns.FacetGrid(\n",
    "    data=ies_df, \n",
    "    row='lib', \n",
    "    height=4, aspect=1.5)\n",
    "g.map_dataframe(\n",
    "    sns.histplot, \n",
    "    x='IES_length_log10', \n",
    "    binwidth=0.025,\n",
    "    hue='ta_bound', hue_order=[True,False], multiple='stack',\n",
    "    linewidth=0)\n",
    "g.add_legend()\n",
    "g.set_xlabels(\"Putative IES log_10 length (bp)\")\n",
    "g.set_ylabels(\"Count\")\n",
    "#plt.savefig(\"plots/putative_ies_length_distribution_detail.png\")\n",
    "#plt.savefig(\"plots/putative_ies_length_distribution_detail.pdf\")"
   ]
  },
  {
   "cell_type": "code",
   "execution_count": 22,
   "metadata": {},
   "outputs": [
    {
     "data": {
      "text/plain": [
       "(1008, 18)"
      ]
     },
     "execution_count": 22,
     "metadata": {},
     "output_type": "execute_result"
    }
   ],
   "source": [
    "ies_df.query('IES_length_log10 <=3.0 and IES_length_log10 >2.8').shape"
   ]
  },
  {
   "cell_type": "code",
   "execution_count": 23,
   "metadata": {
    "scrolled": false
   },
   "outputs": [
    {
     "data": {
      "text/html": [
       "<div>\n",
       "<style scoped>\n",
       "    .dataframe tbody tr th:only-of-type {\n",
       "        vertical-align: middle;\n",
       "    }\n",
       "\n",
       "    .dataframe tbody tr th {\n",
       "        vertical-align: top;\n",
       "    }\n",
       "\n",
       "    .dataframe thead th {\n",
       "        text-align: right;\n",
       "    }\n",
       "</style>\n",
       "<table border=\"1\" class=\"dataframe\">\n",
       "  <thead>\n",
       "    <tr style=\"text-align: right;\">\n",
       "      <th></th>\n",
       "      <th>seqid</th>\n",
       "      <th>source</th>\n",
       "      <th>type</th>\n",
       "      <th>start</th>\n",
       "      <th>end</th>\n",
       "      <th>score</th>\n",
       "      <th>strand</th>\n",
       "      <th>phase</th>\n",
       "      <th>attributes</th>\n",
       "      <th>ID</th>\n",
       "      <th>IES_length</th>\n",
       "      <th>average_coverage</th>\n",
       "      <th>cigar</th>\n",
       "      <th>lib</th>\n",
       "      <th>ta_bound</th>\n",
       "      <th>pointer_seq</th>\n",
       "      <th>pointer_len</th>\n",
       "      <th>IES_length_log10</th>\n",
       "    </tr>\n",
       "  </thead>\n",
       "  <tbody>\n",
       "    <tr>\n",
       "      <th>2</th>\n",
       "      <td>000000F</td>\n",
       "      <td>MILRAA</td>\n",
       "      <td>internal_eliminated_sequence_junction</td>\n",
       "      <td>194134</td>\n",
       "      <td>194134</td>\n",
       "      <td>0.3684</td>\n",
       "      <td>.</td>\n",
       "      <td>.</td>\n",
       "      <td>ID=BREAK_POINTS_FUZZY_000000F_194134_194134_86...</td>\n",
       "      <td>BREAK_POINTS_FUZZY_000000F_194134_194134_861</td>\n",
       "      <td>860.0</td>\n",
       "      <td>19</td>\n",
       "      <td>861I*2 860I*1 862I*1 863I*1 859I*2</td>\n",
       "      <td>mic</td>\n",
       "      <td>True</td>\n",
       "      <td>ACAGTTATAAGAAATA</td>\n",
       "      <td>16</td>\n",
       "      <td>2.934498</td>\n",
       "    </tr>\n",
       "    <tr>\n",
       "      <th>9</th>\n",
       "      <td>000000F</td>\n",
       "      <td>MILRAA</td>\n",
       "      <td>internal_eliminated_sequence</td>\n",
       "      <td>637865</td>\n",
       "      <td>638718</td>\n",
       "      <td>0.5238</td>\n",
       "      <td>.</td>\n",
       "      <td>.</td>\n",
       "      <td>ID=BREAK_POINTS_000000F_637865_638718_854;IES_...</td>\n",
       "      <td>BREAK_POINTS_000000F_637865_638718_854</td>\n",
       "      <td>854.0</td>\n",
       "      <td>21</td>\n",
       "      <td>854D*10</td>\n",
       "      <td>mic</td>\n",
       "      <td>True</td>\n",
       "      <td>TATTACT</td>\n",
       "      <td>7</td>\n",
       "      <td>2.931458</td>\n",
       "    </tr>\n",
       "    <tr>\n",
       "      <th>22</th>\n",
       "      <td>000000F</td>\n",
       "      <td>MILRAA</td>\n",
       "      <td>internal_eliminated_sequence</td>\n",
       "      <td>2772231</td>\n",
       "      <td>2773076</td>\n",
       "      <td>0.5862</td>\n",
       "      <td>.</td>\n",
       "      <td>.</td>\n",
       "      <td>ID=BREAK_POINTS_000000F_2772231_2773076_846;IE...</td>\n",
       "      <td>BREAK_POINTS_000000F_2772231_2773076_846</td>\n",
       "      <td>846.0</td>\n",
       "      <td>29</td>\n",
       "      <td>846D*12</td>\n",
       "      <td>mic</td>\n",
       "      <td>True</td>\n",
       "      <td>AAAATTTAAAATCCT</td>\n",
       "      <td>15</td>\n",
       "      <td>2.927370</td>\n",
       "    </tr>\n",
       "    <tr>\n",
       "      <th>33</th>\n",
       "      <td>000001F</td>\n",
       "      <td>MILRAA</td>\n",
       "      <td>internal_eliminated_sequence</td>\n",
       "      <td>441488</td>\n",
       "      <td>442329</td>\n",
       "      <td>0.5000</td>\n",
       "      <td>.</td>\n",
       "      <td>.</td>\n",
       "      <td>ID=BREAK_POINTS_000001F_441488_442329_842;IES_...</td>\n",
       "      <td>BREAK_POINTS_000001F_441488_442329_842</td>\n",
       "      <td>842.0</td>\n",
       "      <td>24</td>\n",
       "      <td>842D*12</td>\n",
       "      <td>mic</td>\n",
       "      <td>True</td>\n",
       "      <td>TTATTATTATAGATAT</td>\n",
       "      <td>16</td>\n",
       "      <td>2.925312</td>\n",
       "    </tr>\n",
       "    <tr>\n",
       "      <th>52</th>\n",
       "      <td>000001F</td>\n",
       "      <td>MILRAA</td>\n",
       "      <td>internal_eliminated_sequence</td>\n",
       "      <td>2341818</td>\n",
       "      <td>2342670</td>\n",
       "      <td>0.4516</td>\n",
       "      <td>.</td>\n",
       "      <td>.</td>\n",
       "      <td>ID=BREAK_POINTS_000001F_2341818_2342670_853;IE...</td>\n",
       "      <td>BREAK_POINTS_000001F_2341818_2342670_853</td>\n",
       "      <td>853.0</td>\n",
       "      <td>31</td>\n",
       "      <td>853D*17</td>\n",
       "      <td>mic</td>\n",
       "      <td>True</td>\n",
       "      <td>TTAAGATTATAAATA</td>\n",
       "      <td>15</td>\n",
       "      <td>2.930949</td>\n",
       "    </tr>\n",
       "  </tbody>\n",
       "</table>\n",
       "</div>"
      ],
      "text/plain": [
       "      seqid  source                                   type    start      end  \\\n",
       "2   000000F  MILRAA  internal_eliminated_sequence_junction   194134   194134   \n",
       "9   000000F  MILRAA           internal_eliminated_sequence   637865   638718   \n",
       "22  000000F  MILRAA           internal_eliminated_sequence  2772231  2773076   \n",
       "33  000001F  MILRAA           internal_eliminated_sequence   441488   442329   \n",
       "52  000001F  MILRAA           internal_eliminated_sequence  2341818  2342670   \n",
       "\n",
       "     score strand phase                                         attributes  \\\n",
       "2   0.3684      .     .  ID=BREAK_POINTS_FUZZY_000000F_194134_194134_86...   \n",
       "9   0.5238      .     .  ID=BREAK_POINTS_000000F_637865_638718_854;IES_...   \n",
       "22  0.5862      .     .  ID=BREAK_POINTS_000000F_2772231_2773076_846;IE...   \n",
       "33  0.5000      .     .  ID=BREAK_POINTS_000001F_441488_442329_842;IES_...   \n",
       "52  0.4516      .     .  ID=BREAK_POINTS_000001F_2341818_2342670_853;IE...   \n",
       "\n",
       "                                              ID  IES_length  \\\n",
       "2   BREAK_POINTS_FUZZY_000000F_194134_194134_861       860.0   \n",
       "9         BREAK_POINTS_000000F_637865_638718_854       854.0   \n",
       "22      BREAK_POINTS_000000F_2772231_2773076_846       846.0   \n",
       "33        BREAK_POINTS_000001F_441488_442329_842       842.0   \n",
       "52      BREAK_POINTS_000001F_2341818_2342670_853       853.0   \n",
       "\n",
       "    average_coverage                               cigar  lib  ta_bound  \\\n",
       "2                 19  861I*2 860I*1 862I*1 863I*1 859I*2  mic      True   \n",
       "9                 21                             854D*10  mic      True   \n",
       "22                29                             846D*12  mic      True   \n",
       "33                24                             842D*12  mic      True   \n",
       "52                31                             853D*17  mic      True   \n",
       "\n",
       "         pointer_seq  pointer_len  IES_length_log10  \n",
       "2   ACAGTTATAAGAAATA           16          2.934498  \n",
       "9            TATTACT            7          2.931458  \n",
       "22   AAAATTTAAAATCCT           15          2.927370  \n",
       "33  TTATTATTATAGATAT           16          2.925312  \n",
       "52   TTAAGATTATAAATA           15          2.930949  "
      ]
     },
     "execution_count": 23,
     "metadata": {},
     "output_type": "execute_result"
    }
   ],
   "source": [
    "ies_df.query('IES_length_log10 <=3.0 and IES_length_log10 >2.8').head()"
   ]
  },
  {
   "cell_type": "markdown",
   "metadata": {},
   "source": [
    "## Average coverage: \"IESs\" that are at coverage anomalies\n",
    "\n",
    "Are \"IESs\" more likely to be predicted at coverage anomalies? "
   ]
  },
  {
   "cell_type": "code",
   "execution_count": 24,
   "metadata": {},
   "outputs": [
    {
     "data": {
      "image/png": "[encoded data removed]",
      "text/plain": [
       "<Figure size 440x576 with 2 Axes>"
      ]
     },
     "metadata": {},
     "output_type": "display_data"
    }
   ],
   "source": [
    "g = sns.FacetGrid(\n",
    "    data=ies_df, row='lib', height=4, aspect=1.5)\n",
    "g.map_dataframe(\n",
    "    sns.histplot, \n",
    "    x='average_coverage', \n",
    "    hue='ta_bound', multiple='stack',\n",
    "    discrete=True, linewidth=0)\n",
    "g.add_legend()\n",
    "g.set_xlabels(\"Average coverage\")\n",
    "g.set_ylabels(\"Count\")\n",
    "plt.savefig(\"plots/putative_ies_average_coverage.png\")\n",
    "plt.savefig(\"plots/putative_ies_average_coverage.pdf\")"
   ]
  },
  {
   "cell_type": "code",
   "execution_count": 25,
   "metadata": {},
   "outputs": [
    {
     "data": {
      "image/png": "[encoded data removed]",
      "text/plain": [
       "<Figure size 440x576 with 2 Axes>"
      ]
     },
     "metadata": {},
     "output_type": "display_data"
    }
   ],
   "source": [
    "g = sns.FacetGrid(\n",
    "    data=ies_df.query('average_coverage < 100'), row='lib', height=4, aspect=1.5)\n",
    "g.map_dataframe(\n",
    "    sns.histplot, \n",
    "    x='average_coverage', \n",
    "    hue='ta_bound', multiple='stack',\n",
    "    discrete=True, linewidth=0)\n",
    "g.add_legend()\n",
    "g.set_xlabels(\"Average coverage (per IES)\")\n",
    "g.set_ylabels(\"Count\")\n",
    "plt.savefig(\"plots/putative_ies_average_coverage_detail.png\")\n",
    "plt.savefig(\"plots/putative_ies_average_coverage_detail.pdf\")"
   ]
  },
  {
   "cell_type": "markdown",
   "metadata": {},
   "source": [
    "## Retention scores"
   ]
  },
  {
   "cell_type": "code",
   "execution_count": 26,
   "metadata": {},
   "outputs": [],
   "source": [
    "# convert 'type' field to simpler 'indel' column\n",
    "type2indel = {'internal_eliminated_sequence' : 'del', 'internal_eliminated_sequence_junction' : 'ins'}\n",
    "ies_df['indel'] = ies_df['type'].apply(lambda x: type2indel[x])"
   ]
  },
  {
   "cell_type": "code",
   "execution_count": 27,
   "metadata": {
    "scrolled": false
   },
   "outputs": [
    {
     "data": {
      "image/png": "[encoded data removed]",
      "text/plain": [
       "<Figure size 396.975x576 with 2 Axes>"
      ]
     },
     "metadata": {},
     "output_type": "display_data"
    }
   ],
   "source": [
    "g = sns.displot(\n",
    "    data=ies_df, x='score', hue='indel', row='lib', \n",
    "    kind='hist', binwidth=0.05, multiple='stack', linewidth=0,\n",
    "    height=4, aspect=1.2)\n",
    "g.set_xlabels(\"IES retention score\")\n",
    "plt.savefig(\"plots/putative_ies.mic_v_mac_ies_retention_scores.png\")\n",
    "plt.savefig(\"plots/putative_ies.mic_v_mac_ies_retention_scores.pdf\")"
   ]
  },
  {
   "cell_type": "markdown",
   "metadata": {},
   "source": [
    "NB: sns.FacetGrid does not work well with stacked histogram plots. If the `hue` parameter is specified at `sns.FacetGrid`, then the `multiple='stack'` parameter does not work when passed to histplot. If the `hue` parameter is specified at `map_dataframe`, then the hues may differ between panels, and the `add_legend` function does not work. Suggested solution from seaborn developer is to use `displot()` instead of `FacetGrid` for facetting distribution-type plots."
   ]
  },
  {
   "cell_type": "markdown",
   "metadata": {},
   "source": [
    "## Unique vs shared IESs\n",
    "\n",
    "If IESs were real, we expect them to have higher retention score in the MIC mapping than the MAC.\n",
    "\n",
    "For putative IESs predicted in both libraries (same coordinates), we compare the retention scores in MIC vs. MAC and test whether the former is higher than the latter.\n",
    "\n",
    "For those that are predicted in only one library, we reason that they are likely to be the result of low coverage. So we dig into the appropriate mapping and search for them there, too."
   ]
  },
  {
   "cell_type": "code",
   "execution_count": 43,
   "metadata": {},
   "outputs": [],
   "source": [
    "# pull list of start/end coordinates\n",
    "mic_recs_list = {(i[1],i[2],i[3]) : i[4] for i in list(mic_df[['seqid','start','end','ID']].to_records())}\n",
    "mac_recs_list = {(i[1],i[2],i[3]) : i[4] for i in list(mac_df[['seqid','start','end','ID']].to_records())}\n",
    "# get lists of putative iESs shared and unique in either set\n",
    "mic_shared_recs_list = [mic_recs_list[i] for i in mic_recs_list if i in mac_recs_list]\n",
    "mac_shared_recs_list = [mac_recs_list[i] for i in mac_recs_list if i in mic_recs_list]"
   ]
  },
  {
   "cell_type": "code",
   "execution_count": 44,
   "metadata": {},
   "outputs": [],
   "source": [
    "def flag_unique(x):\n",
    "    if x['lib']  == 'mic' and x['ID'] in mic_shared_recs_list:\n",
    "        return(False)\n",
    "    elif x['lib'] == 'mac' and x['ID'] in mac_shared_recs_list:\n",
    "        return(False)\n",
    "    else:\n",
    "        return(True)"
   ]
  },
  {
   "cell_type": "code",
   "execution_count": 47,
   "metadata": {},
   "outputs": [],
   "source": [
    "# Label IESs as unique or shared\n",
    "ies_df['uniq'] = ies_df.apply(lambda x: flag_unique(x), axis=1)"
   ]
  },
  {
   "cell_type": "markdown",
   "metadata": {},
   "source": [
    "### Compare retention scores of shared predicted IESs"
   ]
  },
  {
   "cell_type": "code",
   "execution_count": 31,
   "metadata": {},
   "outputs": [],
   "source": [
    "# Get IESs with same coordinates predicted in MIC vs MAC libraries (with dataframe operations)\n",
    "mic_df_shared = ies_df[ies_df['ID'].isin(mic_shared_recs_list)].query('lib == \"mic\"')[['seqid','start','end','score']]\n",
    "mac_df_shared = ies_df[ies_df['ID'].isin(mac_shared_recs_list)].query('lib == \"mac\"')[['seqid','start','end','score']]\n",
    "# rename score column as 'mic_score' and 'mac_score'\n",
    "mic_df_shared.rename(columns={'score':'mic_score'}, inplace=True)\n",
    "mac_df_shared.rename(columns={'score':'mac_score'}, inplace=True)\n"
   ]
  },
  {
   "cell_type": "code",
   "execution_count": 56,
   "metadata": {},
   "outputs": [],
   "source": [
    "# Extract MIC and MAC retention scores for shared IESs. \n",
    "# Note that IDs may not be the same between the two libraries because predicted lengths can differ\n",
    "ies_df_shared = ies_df.query('not uniq'\n",
    "    )[['seqid','start','end','lib','score']].pivot(\n",
    "        index=['seqid','start','end'], \n",
    "        columns='lib',\n",
    "        values='score'\n",
    "    ).reset_index()"
   ]
  },
  {
   "cell_type": "code",
   "execution_count": 57,
   "metadata": {
    "scrolled": false
   },
   "outputs": [
    {
     "data": {
      "text/plain": [
       "Text(0, 0.5, 'Retention score in MIC')"
      ]
     },
     "execution_count": 57,
     "metadata": {},
     "output_type": "execute_result"
    },
    {
     "data": {
      "image/png": "[encoded data removed]",
      "text/plain": [
       "<Figure size 432x432 with 1 Axes>"
      ]
     },
     "metadata": {},
     "output_type": "display_data"
    }
   ],
   "source": [
    "# scatterplot retention scores in MIC vs MAC libraries for putative IESs found in both\n",
    "plt.figure(figsize=(6,6))\n",
    "sns.histplot(data=ies_df_shared,x='mac',y='mic', binwidth=0.05)\n",
    "plt.title(\"Retention scores for shared putative IESs in MIC vs. MAC\")\n",
    "plt.xlabel(\"Retention score in MAC\")\n",
    "plt.ylabel(\"Retention score in MIC\")\n",
    "#plt.savefig(\"plots/putative_ies.mic_v_mac_ies_retention_scores_heatmap.png\")\n",
    "#plt.savefig(\"plots/putative_ies.mic_v_mac_ies_retention_scores_heatmap.pdf\")"
   ]
  },
  {
   "cell_type": "code",
   "execution_count": 59,
   "metadata": {},
   "outputs": [
    {
     "data": {
      "image/png": "[encoded data removed]",
      "text/plain": [
       "<Figure size 288x216 with 1 Axes>"
      ]
     },
     "metadata": {},
     "output_type": "display_data"
    }
   ],
   "source": [
    "# histogram of retention score differences in MIC vs MAC libraries\n",
    "# if no difference, should cluster around zero\n",
    "plt.figure(figsize=(4,3))\n",
    "sns.histplot(\n",
    "    data=ies_df_shared['mic']-ies_df_shared['mac'],\n",
    "    linewidth=0)\n",
    "plt.title(\"Retention score difference in MIC vs. MAC\")\n",
    "plt.xlabel(\"Difference in retention score\")\n",
    "plt.savefig(\"plots/putative_ies.mic_v_mac_ies_retention_scores_difference.png\")\n",
    "plt.savefig(\"plots/putative_ies.mic_v_mac_ies_retention_scores_difference.pdf\")"
   ]
  },
  {
   "cell_type": "code",
   "execution_count": 60,
   "metadata": {},
   "outputs": [
    {
     "name": "stdout",
     "output_type": "stream",
     "text": [
      "Statistical tests for retention score differences:\n",
      "paired t-test (scipy >=1.6 is needed for `alternative` parameter\n",
      "Ttest_relResult(statistic=1.235269272119551, pvalue=0.21675670947295975)\n"
     ]
    }
   ],
   "source": [
    "print(\"Statistical tests for retention score differences:\")\n",
    "print(\"paired t-test (scipy >=1.6 is needed for `alternative` parameter\")\n",
    "print(stats.ttest_rel(ies_df_shared['mic'], ies_df_shared['mac']))"
   ]
  },
  {
   "cell_type": "code",
   "execution_count": 61,
   "metadata": {},
   "outputs": [
    {
     "name": "stdout",
     "output_type": "stream",
     "text": [
      "Nonparametric tests, because cannot assume that data are normally distributed\n",
      "One-sided, MIC greater:\n",
      "WilcoxonResult(statistic=29094687.0, pvalue=0.2939432192775272)\n",
      "Two-sided\n",
      "WilcoxonResult(statistic=28745703.0, pvalue=0.5878864385550544)\n"
     ]
    }
   ],
   "source": [
    "print(\"Nonparametric tests, because cannot assume that data are normally distributed\")\n",
    "print(\"One-sided, MIC greater:\")\n",
    "print(stats.wilcoxon(ies_df_shared['mic'], ies_df_shared['mac'], alternative='greater'))\n",
    "print(\"Two-sided\")\n",
    "print(stats.wilcoxon(ies_df_shared['mic']-ies_df_shared['mac'], alternative='two-sided'))"
   ]
  },
  {
   "cell_type": "code",
   "execution_count": 62,
   "metadata": {},
   "outputs": [
    {
     "data": {
      "text/plain": [
       "DescribeResult(nobs=10992, minmax=(-0.7192999999999999, 0.7), mean=0.0014734807132459977, variance=0.015640201876046575, skewness=0.08845573783506545, kurtosis=1.328897340313823)"
      ]
     },
     "execution_count": 62,
     "metadata": {},
     "output_type": "execute_result"
    }
   ],
   "source": [
    "stats.describe(ies_df_shared['mic']-ies_df_shared['mac'])"
   ]
  },
  {
   "cell_type": "markdown",
   "metadata": {},
   "source": [
    "Difference between retention scores in IESs from MIC vs. MAC libraries is not statistically significant (one sided test for MIC score greater than MAC score).\n",
    "\n",
    "This is consistent with our hypothesis that the \"IESs\" are in fact indel polymorphisms. Retention scores ~0.5 is consistent with 1:1 ratio of alleles in a diploid organism."
   ]
  },
  {
   "cell_type": "markdown",
   "metadata": {},
   "source": [
    "### Examine MIC-unique IESs\n",
    "\n",
    "Even if the majority of \"IESs\" are indel polymorphisms, it remains possible that there are true IESs hidden among them. We would expect to see these in the IESs predicted only from the MIC library, and they should have retention scores > 0.5."
   ]
  },
  {
   "cell_type": "code",
   "execution_count": 71,
   "metadata": {},
   "outputs": [
    {
     "data": {
      "text/plain": [
       "0.45607116142841053"
      ]
     },
     "execution_count": 71,
     "metadata": {},
     "output_type": "execute_result"
    }
   ],
   "source": [
    "# Overall mean retention score - close to 0.5\n",
    "ies_df['score'].mean()"
   ]
  },
  {
   "cell_type": "code",
   "execution_count": 73,
   "metadata": {},
   "outputs": [
    {
     "data": {
      "text/html": [
       "<div>\n",
       "<style scoped>\n",
       "    .dataframe tbody tr th:only-of-type {\n",
       "        vertical-align: middle;\n",
       "    }\n",
       "\n",
       "    .dataframe tbody tr th {\n",
       "        vertical-align: top;\n",
       "    }\n",
       "\n",
       "    .dataframe thead th {\n",
       "        text-align: right;\n",
       "    }\n",
       "</style>\n",
       "<table border=\"1\" class=\"dataframe\">\n",
       "  <thead>\n",
       "    <tr style=\"text-align: right;\">\n",
       "      <th></th>\n",
       "      <th>count</th>\n",
       "      <th>mean</th>\n",
       "      <th>std</th>\n",
       "      <th>min</th>\n",
       "      <th>25%</th>\n",
       "      <th>50%</th>\n",
       "      <th>75%</th>\n",
       "      <th>max</th>\n",
       "    </tr>\n",
       "    <tr>\n",
       "      <th>lib</th>\n",
       "      <th></th>\n",
       "      <th></th>\n",
       "      <th></th>\n",
       "      <th></th>\n",
       "      <th></th>\n",
       "      <th></th>\n",
       "      <th></th>\n",
       "      <th></th>\n",
       "    </tr>\n",
       "  </thead>\n",
       "  <tbody>\n",
       "    <tr>\n",
       "      <th>mac</th>\n",
       "      <td>12897.0</td>\n",
       "      <td>0.459323</td>\n",
       "      <td>0.241191</td>\n",
       "      <td>0.0</td>\n",
       "      <td>0.25</td>\n",
       "      <td>0.4510</td>\n",
       "      <td>0.6500</td>\n",
       "      <td>1.0</td>\n",
       "    </tr>\n",
       "    <tr>\n",
       "      <th>mic</th>\n",
       "      <td>13734.0</td>\n",
       "      <td>0.453017</td>\n",
       "      <td>0.240889</td>\n",
       "      <td>0.0</td>\n",
       "      <td>0.25</td>\n",
       "      <td>0.4545</td>\n",
       "      <td>0.6327</td>\n",
       "      <td>1.0</td>\n",
       "    </tr>\n",
       "  </tbody>\n",
       "</table>\n",
       "</div>"
      ],
      "text/plain": [
       "       count      mean       std  min   25%     50%     75%  max\n",
       "lib                                                             \n",
       "mac  12897.0  0.459323  0.241191  0.0  0.25  0.4510  0.6500  1.0\n",
       "mic  13734.0  0.453017  0.240889  0.0  0.25  0.4545  0.6327  1.0"
      ]
     },
     "execution_count": 73,
     "metadata": {},
     "output_type": "execute_result"
    }
   ],
   "source": [
    "# Summary of retention scores by library\n",
    "ies_df.groupby(['lib'])['score'].describe()"
   ]
  },
  {
   "cell_type": "code",
   "execution_count": 70,
   "metadata": {},
   "outputs": [
    {
     "data": {
      "text/html": [
       "<div>\n",
       "<style scoped>\n",
       "    .dataframe tbody tr th:only-of-type {\n",
       "        vertical-align: middle;\n",
       "    }\n",
       "\n",
       "    .dataframe tbody tr th {\n",
       "        vertical-align: top;\n",
       "    }\n",
       "\n",
       "    .dataframe thead th {\n",
       "        text-align: right;\n",
       "    }\n",
       "</style>\n",
       "<table border=\"1\" class=\"dataframe\">\n",
       "  <thead>\n",
       "    <tr style=\"text-align: right;\">\n",
       "      <th></th>\n",
       "      <th>count</th>\n",
       "      <th>mean</th>\n",
       "      <th>std</th>\n",
       "      <th>min</th>\n",
       "      <th>25%</th>\n",
       "      <th>50%</th>\n",
       "      <th>75%</th>\n",
       "      <th>max</th>\n",
       "    </tr>\n",
       "    <tr>\n",
       "      <th>uniq</th>\n",
       "      <th></th>\n",
       "      <th></th>\n",
       "      <th></th>\n",
       "      <th></th>\n",
       "      <th></th>\n",
       "      <th></th>\n",
       "      <th></th>\n",
       "      <th></th>\n",
       "    </tr>\n",
       "  </thead>\n",
       "  <tbody>\n",
       "    <tr>\n",
       "      <th>False</th>\n",
       "      <td>21984.0</td>\n",
       "      <td>0.465644</td>\n",
       "      <td>0.225895</td>\n",
       "      <td>0.0</td>\n",
       "      <td>0.2857</td>\n",
       "      <td>0.4643</td>\n",
       "      <td>0.6316</td>\n",
       "      <td>1.0</td>\n",
       "    </tr>\n",
       "    <tr>\n",
       "      <th>True</th>\n",
       "      <td>4647.0</td>\n",
       "      <td>0.410783</td>\n",
       "      <td>0.298532</td>\n",
       "      <td>0.0</td>\n",
       "      <td>0.1429</td>\n",
       "      <td>0.2917</td>\n",
       "      <td>0.7222</td>\n",
       "      <td>1.0</td>\n",
       "    </tr>\n",
       "  </tbody>\n",
       "</table>\n",
       "</div>"
      ],
      "text/plain": [
       "         count      mean       std  min     25%     50%     75%  max\n",
       "uniq                                                                \n",
       "False  21984.0  0.465644  0.225895  0.0  0.2857  0.4643  0.6316  1.0\n",
       "True    4647.0  0.410783  0.298532  0.0  0.1429  0.2917  0.7222  1.0"
      ]
     },
     "execution_count": 70,
     "metadata": {},
     "output_type": "execute_result"
    }
   ],
   "source": [
    "# Summary of retention scores grouped by whether \"IES\" is shared or unique\n",
    "ies_df.groupby('uniq')['score'].describe()"
   ]
  },
  {
   "cell_type": "code",
   "execution_count": 74,
   "metadata": {},
   "outputs": [
    {
     "data": {
      "text/html": [
       "<div>\n",
       "<style scoped>\n",
       "    .dataframe tbody tr th:only-of-type {\n",
       "        vertical-align: middle;\n",
       "    }\n",
       "\n",
       "    .dataframe tbody tr th {\n",
       "        vertical-align: top;\n",
       "    }\n",
       "\n",
       "    .dataframe thead th {\n",
       "        text-align: right;\n",
       "    }\n",
       "</style>\n",
       "<table border=\"1\" class=\"dataframe\">\n",
       "  <thead>\n",
       "    <tr style=\"text-align: right;\">\n",
       "      <th></th>\n",
       "      <th></th>\n",
       "      <th>count</th>\n",
       "      <th>mean</th>\n",
       "      <th>std</th>\n",
       "      <th>min</th>\n",
       "      <th>25%</th>\n",
       "      <th>50%</th>\n",
       "      <th>75%</th>\n",
       "      <th>max</th>\n",
       "    </tr>\n",
       "    <tr>\n",
       "      <th>lib</th>\n",
       "      <th>indel</th>\n",
       "      <th></th>\n",
       "      <th></th>\n",
       "      <th></th>\n",
       "      <th></th>\n",
       "      <th></th>\n",
       "      <th></th>\n",
       "      <th></th>\n",
       "      <th></th>\n",
       "    </tr>\n",
       "  </thead>\n",
       "  <tbody>\n",
       "    <tr>\n",
       "      <th rowspan=\"2\" valign=\"top\">mac</th>\n",
       "      <th>del</th>\n",
       "      <td>5562.0</td>\n",
       "      <td>0.645992</td>\n",
       "      <td>0.159307</td>\n",
       "      <td>0.0000</td>\n",
       "      <td>0.565200</td>\n",
       "      <td>0.6538</td>\n",
       "      <td>0.7568</td>\n",
       "      <td>0.9876</td>\n",
       "    </tr>\n",
       "    <tr>\n",
       "      <th>ins</th>\n",
       "      <td>7335.0</td>\n",
       "      <td>0.317776</td>\n",
       "      <td>0.191266</td>\n",
       "      <td>0.0033</td>\n",
       "      <td>0.176500</td>\n",
       "      <td>0.2941</td>\n",
       "      <td>0.4167</td>\n",
       "      <td>1.0000</td>\n",
       "    </tr>\n",
       "    <tr>\n",
       "      <th rowspan=\"2\" valign=\"top\">mic</th>\n",
       "      <th>del</th>\n",
       "      <td>5750.0</td>\n",
       "      <td>0.616218</td>\n",
       "      <td>0.175314</td>\n",
       "      <td>0.0000</td>\n",
       "      <td>0.514300</td>\n",
       "      <td>0.6286</td>\n",
       "      <td>0.7500</td>\n",
       "      <td>0.9815</td>\n",
       "    </tr>\n",
       "    <tr>\n",
       "      <th>ins</th>\n",
       "      <td>7984.0</td>\n",
       "      <td>0.335482</td>\n",
       "      <td>0.211399</td>\n",
       "      <td>0.0014</td>\n",
       "      <td>0.168425</td>\n",
       "      <td>0.3000</td>\n",
       "      <td>0.4545</td>\n",
       "      <td>1.0000</td>\n",
       "    </tr>\n",
       "  </tbody>\n",
       "</table>\n",
       "</div>"
      ],
      "text/plain": [
       "            count      mean       std     min       25%     50%     75%  \\\n",
       "lib indel                                                                 \n",
       "mac del    5562.0  0.645992  0.159307  0.0000  0.565200  0.6538  0.7568   \n",
       "    ins    7335.0  0.317776  0.191266  0.0033  0.176500  0.2941  0.4167   \n",
       "mic del    5750.0  0.616218  0.175314  0.0000  0.514300  0.6286  0.7500   \n",
       "    ins    7984.0  0.335482  0.211399  0.0014  0.168425  0.3000  0.4545   \n",
       "\n",
       "              max  \n",
       "lib indel          \n",
       "mac del    0.9876  \n",
       "    ins    1.0000  \n",
       "mic del    0.9815  \n",
       "    ins    1.0000  "
      ]
     },
     "execution_count": 74,
     "metadata": {},
     "output_type": "execute_result"
    }
   ],
   "source": [
    "# Summary of retention scores grouped by library and whether insert or deletion\n",
    "ies_df.groupby(['lib','indel'])['score'].describe()"
   ]
  },
  {
   "cell_type": "code",
   "execution_count": 67,
   "metadata": {},
   "outputs": [
    {
     "data": {
      "text/html": [
       "<div>\n",
       "<style scoped>\n",
       "    .dataframe tbody tr th:only-of-type {\n",
       "        vertical-align: middle;\n",
       "    }\n",
       "\n",
       "    .dataframe tbody tr th {\n",
       "        vertical-align: top;\n",
       "    }\n",
       "\n",
       "    .dataframe thead th {\n",
       "        text-align: right;\n",
       "    }\n",
       "</style>\n",
       "<table border=\"1\" class=\"dataframe\">\n",
       "  <thead>\n",
       "    <tr style=\"text-align: right;\">\n",
       "      <th></th>\n",
       "      <th></th>\n",
       "      <th></th>\n",
       "      <th>count</th>\n",
       "      <th>mean</th>\n",
       "      <th>std</th>\n",
       "      <th>min</th>\n",
       "      <th>25%</th>\n",
       "      <th>50%</th>\n",
       "      <th>75%</th>\n",
       "      <th>max</th>\n",
       "    </tr>\n",
       "    <tr>\n",
       "      <th>lib</th>\n",
       "      <th>uniq</th>\n",
       "      <th>indel</th>\n",
       "      <th></th>\n",
       "      <th></th>\n",
       "      <th></th>\n",
       "      <th></th>\n",
       "      <th></th>\n",
       "      <th></th>\n",
       "      <th></th>\n",
       "      <th></th>\n",
       "    </tr>\n",
       "  </thead>\n",
       "  <tbody>\n",
       "    <tr>\n",
       "      <th rowspan=\"4\" valign=\"top\">mac</th>\n",
       "      <th rowspan=\"2\" valign=\"top\">False</th>\n",
       "      <th>del</th>\n",
       "      <td>4779.0</td>\n",
       "      <td>0.630435</td>\n",
       "      <td>0.155373</td>\n",
       "      <td>0.0000</td>\n",
       "      <td>0.55560</td>\n",
       "      <td>0.6364</td>\n",
       "      <td>0.729700</td>\n",
       "      <td>0.9876</td>\n",
       "    </tr>\n",
       "    <tr>\n",
       "      <th>ins</th>\n",
       "      <td>6213.0</td>\n",
       "      <td>0.337584</td>\n",
       "      <td>0.190206</td>\n",
       "      <td>0.0033</td>\n",
       "      <td>0.20000</td>\n",
       "      <td>0.3243</td>\n",
       "      <td>0.428600</td>\n",
       "      <td>1.0000</td>\n",
       "    </tr>\n",
       "    <tr>\n",
       "      <th rowspan=\"2\" valign=\"top\">True</th>\n",
       "      <th>del</th>\n",
       "      <td>783.0</td>\n",
       "      <td>0.740945</td>\n",
       "      <td>0.149899</td>\n",
       "      <td>0.0000</td>\n",
       "      <td>0.67655</td>\n",
       "      <td>0.7727</td>\n",
       "      <td>0.837800</td>\n",
       "      <td>0.9742</td>\n",
       "    </tr>\n",
       "    <tr>\n",
       "      <th>ins</th>\n",
       "      <td>1122.0</td>\n",
       "      <td>0.208086</td>\n",
       "      <td>0.156964</td>\n",
       "      <td>0.0063</td>\n",
       "      <td>0.10000</td>\n",
       "      <td>0.1724</td>\n",
       "      <td>0.253675</td>\n",
       "      <td>1.0000</td>\n",
       "    </tr>\n",
       "    <tr>\n",
       "      <th rowspan=\"4\" valign=\"top\">mic</th>\n",
       "      <th rowspan=\"2\" valign=\"top\">False</th>\n",
       "      <th>del</th>\n",
       "      <td>4779.0</td>\n",
       "      <td>0.598642</td>\n",
       "      <td>0.169198</td>\n",
       "      <td>0.0000</td>\n",
       "      <td>0.50000</td>\n",
       "      <td>0.6061</td>\n",
       "      <td>0.721200</td>\n",
       "      <td>0.9815</td>\n",
       "    </tr>\n",
       "    <tr>\n",
       "      <th>ins</th>\n",
       "      <td>6213.0</td>\n",
       "      <td>0.364647</td>\n",
       "      <td>0.206663</td>\n",
       "      <td>0.0014</td>\n",
       "      <td>0.20690</td>\n",
       "      <td>0.3448</td>\n",
       "      <td>0.480000</td>\n",
       "      <td>1.0000</td>\n",
       "    </tr>\n",
       "    <tr>\n",
       "      <th rowspan=\"2\" valign=\"top\">True</th>\n",
       "      <th>del</th>\n",
       "      <td>971.0</td>\n",
       "      <td>0.702721</td>\n",
       "      <td>0.179259</td>\n",
       "      <td>0.0000</td>\n",
       "      <td>0.63640</td>\n",
       "      <td>0.7391</td>\n",
       "      <td>0.821800</td>\n",
       "      <td>0.9762</td>\n",
       "    </tr>\n",
       "    <tr>\n",
       "      <th>ins</th>\n",
       "      <td>1771.0</td>\n",
       "      <td>0.233165</td>\n",
       "      <td>0.195454</td>\n",
       "      <td>0.0053</td>\n",
       "      <td>0.11480</td>\n",
       "      <td>0.1765</td>\n",
       "      <td>0.276850</td>\n",
       "      <td>1.0000</td>\n",
       "    </tr>\n",
       "  </tbody>\n",
       "</table>\n",
       "</div>"
      ],
      "text/plain": [
       "                  count      mean       std     min      25%     50%  \\\n",
       "lib uniq  indel                                                        \n",
       "mac False del    4779.0  0.630435  0.155373  0.0000  0.55560  0.6364   \n",
       "          ins    6213.0  0.337584  0.190206  0.0033  0.20000  0.3243   \n",
       "    True  del     783.0  0.740945  0.149899  0.0000  0.67655  0.7727   \n",
       "          ins    1122.0  0.208086  0.156964  0.0063  0.10000  0.1724   \n",
       "mic False del    4779.0  0.598642  0.169198  0.0000  0.50000  0.6061   \n",
       "          ins    6213.0  0.364647  0.206663  0.0014  0.20690  0.3448   \n",
       "    True  del     971.0  0.702721  0.179259  0.0000  0.63640  0.7391   \n",
       "          ins    1771.0  0.233165  0.195454  0.0053  0.11480  0.1765   \n",
       "\n",
       "                      75%     max  \n",
       "lib uniq  indel                    \n",
       "mac False del    0.729700  0.9876  \n",
       "          ins    0.428600  1.0000  \n",
       "    True  del    0.837800  0.9742  \n",
       "          ins    0.253675  1.0000  \n",
       "mic False del    0.721200  0.9815  \n",
       "          ins    0.480000  1.0000  \n",
       "    True  del    0.821800  0.9762  \n",
       "          ins    0.276850  1.0000  "
      ]
     },
     "execution_count": 67,
     "metadata": {},
     "output_type": "execute_result"
    }
   ],
   "source": [
    "# Summary of retention scores grouped by library, indel and shared/unique\n",
    "ies_df.groupby(['lib','uniq','indel'])['score'].describe()"
   ]
  },
  {
   "cell_type": "markdown",
   "metadata": {},
   "source": [
    "If predicted IESs unique to the MIC are true IESs, then we expect them to be predominantly inserts relative to the MAC reference genome, and to have retention score higher than 50% because the MICs were physically enriched.\n",
    "\n",
    "However, MIC-unique \"IESs\" comprised both insertions and deletions; the retention scores were lower than average for the former, and higher than average for the latter. The same pattern was observed for MAC-unique \"IESs\". This suggests that these indels are not truly unique to MIC or MAC libraries but simply not detected in one or the other library because of sampling effects, and \"unique\" IESs are simply statistical outliers."
   ]
  },
  {
   "cell_type": "code",
   "execution_count": 75,
   "metadata": {
    "scrolled": false
   },
   "outputs": [
    {
     "data": {
      "text/plain": [
       "<seaborn.axisgrid.FacetGrid at 0x7fde8c24c670>"
      ]
     },
     "execution_count": 75,
     "metadata": {},
     "output_type": "execute_result"
    },
    {
     "data": {
      "image/png": "[encoded data removed]",
      "text/plain": [
       "<Figure size 406.85x288 with 2 Axes>"
      ]
     },
     "metadata": {},
     "output_type": "display_data"
    }
   ],
   "source": [
    "g = sns.displot(\n",
    "    data=ies_df.query('lib==\"mac\"'), x='score', \n",
    "    hue='uniq', palette='Blues',\n",
    "    row='indel', \n",
    "    #row='lib',\n",
    "    kind='hist', binwidth=0.05, multiple='stack', \n",
    "    linewidth=0,\n",
    "    height=2, aspect=2.4)\n",
    "g.set_xlabels(\"IES retention score\")"
   ]
  },
  {
   "cell_type": "code",
   "execution_count": 76,
   "metadata": {
    "scrolled": false
   },
   "outputs": [
    {
     "data": {
      "text/plain": [
       "<seaborn.axisgrid.FacetGrid at 0x7fde8baf8130>"
      ]
     },
     "execution_count": 76,
     "metadata": {},
     "output_type": "execute_result"
    },
    {
     "data": {
      "image/png": "[encoded data removed]",
      "text/plain": [
       "<Figure size 406.85x288 with 2 Axes>"
      ]
     },
     "metadata": {},
     "output_type": "display_data"
    }
   ],
   "source": [
    "g = sns.displot(\n",
    "    data=ies_df.query('lib==\"mic\"'), x='score', \n",
    "    hue='uniq', palette='Blues',\n",
    "    row='indel', \n",
    "    #row='lib',\n",
    "    kind='hist', binwidth=0.05, multiple='stack', \n",
    "    linewidth=0,\n",
    "    height=2, aspect=2.4)\n",
    "g.set_xlabels(\"IES retention score\")"
   ]
  },
  {
   "cell_type": "markdown",
   "metadata": {},
   "source": [
    "This is confirmed if we plot distribution of retention scores vs. average coverage of flanking regions. \n",
    "\n",
    "The genome-wide average coverage is around 20-30x. Shared indels mostly have coverage in that range and retention scores around 50%.\n",
    "\n",
    "However unique IESs with very high or very low retention scores are associated with low coverage regions, i.e. they are likely due to sampling artiacts."
   ]
  },
  {
   "cell_type": "code",
   "execution_count": 106,
   "metadata": {},
   "outputs": [
    {
     "data": {
      "image/png": "[encoded data removed]",
      "text/plain": [
       "<Figure size 432x432 with 4 Axes>"
      ]
     },
     "metadata": {},
     "output_type": "display_data"
    }
   ],
   "source": [
    "# Plot average coverage vs. retention score.\n",
    "# Observe that \"IESs\" with high retention score tend to be in low coverage regions\n",
    "# i.e. are likely sampling artifacts\n",
    "# Average coverage 20-30 for most regions\n",
    "g = sns.FacetGrid(\n",
    "    data=ies_df.query('average_coverage<60 and not uniq'),\n",
    "    row='lib', col='indel', col_order=['ins','del']\n",
    "    )\n",
    "g.map_dataframe(\n",
    "    sns.histplot,\n",
    "    x='score', y='average_coverage', hue='indel', binwidth=(0.03, 2)\n",
    ")\n",
    "g.set_xlabels('Retention score')\n",
    "g.set_ylabels('Average coverage')\n",
    "g.savefig('plots/putative_IES.retention_score_vs_avg_coverage.png')\n",
    "g.savefig('plots/putative_IES.retention_score_vs_avg_coverage.pdf')"
   ]
  },
  {
   "cell_type": "code",
   "execution_count": 107,
   "metadata": {},
   "outputs": [
    {
     "data": {
      "image/png": "[encoded data removed]",
      "text/plain": [
       "<Figure size 432x432 with 4 Axes>"
      ]
     },
     "metadata": {},
     "output_type": "display_data"
    }
   ],
   "source": [
    "# Plot coverage vs. retention score for \"IESs\" that are only predicted in MIC \n",
    "# or only predicted in MAC library (\"unique\")\n",
    "g = sns.FacetGrid(\n",
    "    data=ies_df.query('uniq and average_coverage<60'),\n",
    "    row='lib', col='indel', col_order=['ins','del']\n",
    "    )\n",
    "g.map_dataframe(\n",
    "    sns.histplot,\n",
    "    x='score', y='average_coverage', binwidth=(0.03, 2)\n",
    ")\n",
    "g.set_xlabels('Retention score')\n",
    "g.set_ylabels('Average coverage')\n",
    "g.savefig('plots/putative_IES.retention_score_vs_avg_coverage.only_unique.png')\n",
    "g.savefig('plots/putative_IES.retention_score_vs_avg_coverage.only_unique.pdf')"
   ]
  },
  {
   "cell_type": "code",
   "execution_count": 102,
   "metadata": {},
   "outputs": [
    {
     "data": {
      "text/html": [
       "<div>\n",
       "<style scoped>\n",
       "    .dataframe tbody tr th:only-of-type {\n",
       "        vertical-align: middle;\n",
       "    }\n",
       "\n",
       "    .dataframe tbody tr th {\n",
       "        vertical-align: top;\n",
       "    }\n",
       "\n",
       "    .dataframe thead th {\n",
       "        text-align: right;\n",
       "    }\n",
       "</style>\n",
       "<table border=\"1\" class=\"dataframe\">\n",
       "  <thead>\n",
       "    <tr style=\"text-align: right;\">\n",
       "      <th></th>\n",
       "      <th></th>\n",
       "      <th></th>\n",
       "      <th>count</th>\n",
       "      <th>mean</th>\n",
       "      <th>std</th>\n",
       "      <th>min</th>\n",
       "      <th>25%</th>\n",
       "      <th>50%</th>\n",
       "      <th>75%</th>\n",
       "      <th>max</th>\n",
       "    </tr>\n",
       "    <tr>\n",
       "      <th>lib</th>\n",
       "      <th>uniq</th>\n",
       "      <th>indel</th>\n",
       "      <th></th>\n",
       "      <th></th>\n",
       "      <th></th>\n",
       "      <th></th>\n",
       "      <th></th>\n",
       "      <th></th>\n",
       "      <th></th>\n",
       "      <th></th>\n",
       "    </tr>\n",
       "  </thead>\n",
       "  <tbody>\n",
       "    <tr>\n",
       "      <th rowspan=\"4\" valign=\"top\">mac</th>\n",
       "      <th rowspan=\"2\" valign=\"top\">False</th>\n",
       "      <th>del</th>\n",
       "      <td>63.0</td>\n",
       "      <td>98.698413</td>\n",
       "      <td>68.500444</td>\n",
       "      <td>51.0</td>\n",
       "      <td>62.50</td>\n",
       "      <td>77.0</td>\n",
       "      <td>98.50</td>\n",
       "      <td>485.0</td>\n",
       "    </tr>\n",
       "    <tr>\n",
       "      <th>ins</th>\n",
       "      <td>181.0</td>\n",
       "      <td>15.348066</td>\n",
       "      <td>10.724601</td>\n",
       "      <td>3.0</td>\n",
       "      <td>7.00</td>\n",
       "      <td>14.0</td>\n",
       "      <td>20.00</td>\n",
       "      <td>74.0</td>\n",
       "    </tr>\n",
       "    <tr>\n",
       "      <th rowspan=\"2\" valign=\"top\">True</th>\n",
       "      <th>del</th>\n",
       "      <td>49.0</td>\n",
       "      <td>84.653061</td>\n",
       "      <td>38.847754</td>\n",
       "      <td>51.0</td>\n",
       "      <td>65.00</td>\n",
       "      <td>72.0</td>\n",
       "      <td>83.00</td>\n",
       "      <td>233.0</td>\n",
       "    </tr>\n",
       "    <tr>\n",
       "      <th>ins</th>\n",
       "      <td>9.0</td>\n",
       "      <td>4.444444</td>\n",
       "      <td>2.127858</td>\n",
       "      <td>3.0</td>\n",
       "      <td>3.00</td>\n",
       "      <td>3.0</td>\n",
       "      <td>6.00</td>\n",
       "      <td>9.0</td>\n",
       "    </tr>\n",
       "    <tr>\n",
       "      <th rowspan=\"4\" valign=\"top\">mic</th>\n",
       "      <th rowspan=\"2\" valign=\"top\">False</th>\n",
       "      <th>del</th>\n",
       "      <td>56.0</td>\n",
       "      <td>118.089286</td>\n",
       "      <td>80.267117</td>\n",
       "      <td>53.0</td>\n",
       "      <td>62.75</td>\n",
       "      <td>81.5</td>\n",
       "      <td>154.25</td>\n",
       "      <td>377.0</td>\n",
       "    </tr>\n",
       "    <tr>\n",
       "      <th>ins</th>\n",
       "      <td>205.0</td>\n",
       "      <td>15.248780</td>\n",
       "      <td>10.810378</td>\n",
       "      <td>3.0</td>\n",
       "      <td>8.00</td>\n",
       "      <td>13.0</td>\n",
       "      <td>20.00</td>\n",
       "      <td>66.0</td>\n",
       "    </tr>\n",
       "    <tr>\n",
       "      <th rowspan=\"2\" valign=\"top\">True</th>\n",
       "      <th>del</th>\n",
       "      <td>46.0</td>\n",
       "      <td>98.630435</td>\n",
       "      <td>62.551795</td>\n",
       "      <td>51.0</td>\n",
       "      <td>60.50</td>\n",
       "      <td>78.0</td>\n",
       "      <td>100.25</td>\n",
       "      <td>311.0</td>\n",
       "    </tr>\n",
       "    <tr>\n",
       "      <th>ins</th>\n",
       "      <td>40.0</td>\n",
       "      <td>4.200000</td>\n",
       "      <td>1.989717</td>\n",
       "      <td>3.0</td>\n",
       "      <td>3.00</td>\n",
       "      <td>4.0</td>\n",
       "      <td>4.25</td>\n",
       "      <td>15.0</td>\n",
       "    </tr>\n",
       "  </tbody>\n",
       "</table>\n",
       "</div>"
      ],
      "text/plain": [
       "                 count        mean        std   min    25%   50%     75%  \\\n",
       "lib uniq  indel                                                            \n",
       "mac False del     63.0   98.698413  68.500444  51.0  62.50  77.0   98.50   \n",
       "          ins    181.0   15.348066  10.724601   3.0   7.00  14.0   20.00   \n",
       "    True  del     49.0   84.653061  38.847754  51.0  65.00  72.0   83.00   \n",
       "          ins      9.0    4.444444   2.127858   3.0   3.00   3.0    6.00   \n",
       "mic False del     56.0  118.089286  80.267117  53.0  62.75  81.5  154.25   \n",
       "          ins    205.0   15.248780  10.810378   3.0   8.00  13.0   20.00   \n",
       "    True  del     46.0   98.630435  62.551795  51.0  60.50  78.0  100.25   \n",
       "          ins     40.0    4.200000   1.989717   3.0   3.00   4.0    4.25   \n",
       "\n",
       "                   max  \n",
       "lib uniq  indel         \n",
       "mac False del    485.0  \n",
       "          ins     74.0  \n",
       "    True  del    233.0  \n",
       "          ins      9.0  \n",
       "mic False del    377.0  \n",
       "          ins     66.0  \n",
       "    True  del    311.0  \n",
       "          ins     15.0  "
      ]
     },
     "execution_count": 102,
     "metadata": {},
     "output_type": "execute_result"
    }
   ],
   "source": [
    "# \"IES\" insertions unique to the MIC and with high retention score are few in number and have low flanking coverage\n",
    "ies_df.query('score > 0.9').groupby(['lib','uniq','indel'])['average_coverage'].describe()"
   ]
  },
  {
   "cell_type": "markdown",
   "metadata": {},
   "source": [
    "# TDR length distribution\n",
    "\n",
    "Length distribution of TDRs bounding the \"IES\" indels, comparing observed to expected numbers of IESs with TDRs of given lengths. Also show the prevalence of TDRs containing the submotif \"TA\""
   ]
  },
  {
   "cell_type": "code",
   "execution_count": 82,
   "metadata": {},
   "outputs": [
    {
     "data": {
      "text/plain": [
       "37.0"
      ]
     },
     "execution_count": 82,
     "metadata": {},
     "output_type": "execute_result"
    }
   ],
   "source": [
    "(100-26)/2"
   ]
  },
  {
   "cell_type": "markdown",
   "metadata": {},
   "source": [
    "Calculation of expected number of TIRs\n",
    "\n",
    "GC% = 26%, so the individual base composition: p_G = 0.13, p_C = 0.13, p_A = 0.37, p_T = 0.37"
   ]
  },
  {
   "cell_type": "code",
   "execution_count": 83,
   "metadata": {},
   "outputs": [],
   "source": [
    "pr_sum = sum([0.13**2, 0.13**2, 0.37**2, 0.37**2])"
   ]
  },
  {
   "cell_type": "code",
   "execution_count": 84,
   "metadata": {},
   "outputs": [
    {
     "data": {
      "text/plain": [
       "26631"
      ]
     },
     "execution_count": 84,
     "metadata": {},
     "output_type": "execute_result"
    }
   ],
   "source": [
    "ies_df.shape[0] # Total number of IESs"
   ]
  },
  {
   "cell_type": "code",
   "execution_count": 85,
   "metadata": {},
   "outputs": [],
   "source": [
    "expected_tirs = pd.DataFrame(\n",
    "    [(i, ies_df.shape[0] * pr_sum**i * (1-pr_sum)) for i in range(50)],\n",
    "    columns=['pointer_len', 'Count'])"
   ]
  },
  {
   "cell_type": "code",
   "execution_count": 86,
   "metadata": {},
   "outputs": [
    {
     "data": {
      "image/png": "[encoded data removed]",
      "text/plain": [
       "<Figure size 460.8x345.6 with 1 Axes>"
      ]
     },
     "metadata": {},
     "output_type": "display_data"
    }
   ],
   "source": [
    "fig, axs = plt.subplots()\n",
    "sns.histplot(\n",
    "    data=ies_df.query('pointer_len < 50').query('lib==\"mic\"'),\n",
    "    x='pointer_len',\n",
    "    hue='ta_bound', hue_order=[True,False],\n",
    "    discrete=True,\n",
    "    multiple='stack',\n",
    "    linewidth=0, ax=axs)\n",
    "sns.lineplot(\n",
    "    data=expected_tirs,\n",
    "    x='pointer_len',y='Count',\n",
    "    color='grey',\n",
    "    ax=axs)\n",
    "axs.set_ylim(0,5000)\n",
    "axs.lines[0].set_linestyle(\"--\")\n",
    "fig.tight_layout()\n",
    "axs.set_xlabel(\"TDR length (bp)\")\n",
    "axs.set_ylabel(\"Number of indels\")\n",
    "#axs.set_yscale('symlog')\n",
    "fig.savefig('plots/putative_ies.observed_expected_TDR_length.pdf')\n",
    "fig.savefig('plots/putative_ies.observed_expected_TDR_length.png')"
   ]
  }
 ],
 "metadata": {
  "kernelspec": {
   "display_name": "Python [conda env:bio-env]",
   "language": "python",
   "name": "conda-env-bio-env-py"
  },
  "language_info": {
   "codemirror_mode": {
    "name": "ipython",
    "version": 3
   },
   "file_extension": ".py",
   "mimetype": "text/x-python",
   "name": "python",
   "nbconvert_exporter": "python",
   "pygments_lexer": "ipython3",
   "version": "3.10.5"
  }
 },
 "nbformat": 4,
 "nbformat_minor": 2
}
