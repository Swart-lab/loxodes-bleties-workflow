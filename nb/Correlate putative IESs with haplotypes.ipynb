{
 "cells": [
  {
   "cell_type": "markdown",
   "metadata": {},
   "source": [
    "# Compare putative IESs with haplotypes\n",
    "\n",
    "Visual inspection of mapped reads at putative \"IESs\" predicted by BleTIES showed that presence of these \"IESs\" often correlated with SNPs on the same reads. We wish to examine this systematically by checking correlation of \"IES\" indels with read haplotags."
   ]
  },
  {
   "cell_type": "code",
   "execution_count": 1,
   "metadata": {},
   "outputs": [],
   "source": [
    "import pysam\n",
    "import re\n",
    "import json\n",
    "import pybedtools\n",
    "\n",
    "import pandas as pd\n",
    "import seaborn as sns\n",
    "import matplotlib.pyplot as plt\n",
    "\n",
    "from collections import defaultdict\n",
    "from Bio import SeqIO"
   ]
  },
  {
   "cell_type": "code",
   "execution_count": 2,
   "metadata": {},
   "outputs": [],
   "source": [
    "# Import haplotagged BAM mapping\n",
    "bamfile = '/tmp/global2/kbseah/bleties/minimap2.comb.LmagMAC.rg_tag.diploid.g400.haplotagged.bam'\n",
    "sam = pysam.AlignmentFile(bamfile, 'rb')"
   ]
  },
  {
   "cell_type": "code",
   "execution_count": 3,
   "metadata": {},
   "outputs": [],
   "source": [
    "OP2BAM = {'M': 0, 'I': 1, 'D': 2, 'N': 3, 'S': 4, 'H': 5, 'P': 6, '=': 7, 'X':8}\n",
    "BAM2OP = {OP2BAM[op] : op for op in OP2BAM}\n",
    "QUERY_CONSUMING = [0, 1, 4, 7, 8]\n",
    "REF_CONSUMING = [0, 2, 3, 7, 8]\n",
    "\n",
    "def get_op_ref_pos(reftargetpos, refstartpos, cigartuples):\n",
    "    # reftargetpos and refstartpos are zero-based\n",
    "    # however, zero-length features in zero-based numbering \n",
    "    # are to the LEFT of the coordinate\n",
    "    # cigartuples is output from pysam.AlignedSegment.cigartuples\n",
    "    curr_int_start = refstartpos\n",
    "    curr_int_end = refstartpos\n",
    "    for bamop, oplen in cigartuples:\n",
    "        if bamop in REF_CONSUMING:\n",
    "            # ref consuming, move forward on ref\n",
    "            curr_int_start = curr_int_end\n",
    "            curr_int_end = curr_int_end + oplen\n",
    "            if reftargetpos >= curr_int_start and reftargetpos < curr_int_end:\n",
    "                return(oplen, BAM2OP[bamop])\n",
    "        else:\n",
    "            # current operation has extent zero\n",
    "            curr_int_start = curr_int_end \n",
    "            if reftargetpos == curr_int_end:\n",
    "                return(oplen, BAM2OP[bamop])"
   ]
  },
  {
   "cell_type": "markdown",
   "metadata": {},
   "source": [
    "Example: contig `000001F` positions 441488 to 442329 (inclusive)\n",
    "\n",
    "At this position, MILRAA calls a deletion of 842 bp.\n",
    "\n",
    "We extract the `HP` (haplotype) tag for all reads that map to this position, and show that the haplotype of a given read correlates with the presence of the indel. However, because haplotypes were called separately for MIC vs MAC read groups (`RG` tag), the numbering sometimes conflicts."
   ]
  },
  {
   "cell_type": "code",
   "execution_count": 4,
   "metadata": {},
   "outputs": [],
   "source": [
    "iter = sam.fetch(\"000001F\", 441488, 442329)\n",
    "outtab = []\n",
    "for x in iter:\n",
    "    ops = get_op_ref_pos(441488, x.reference_start, x.cigartuples)\n",
    "    if ops:\n",
    "        outtab.append([str(i) for i in [ops[0], ops[1], x.get_tag('HP'), x.get_tag('RG')]])"
   ]
  },
  {
   "cell_type": "code",
   "execution_count": 5,
   "metadata": {},
   "outputs": [],
   "source": [
    "outtab = pd.DataFrame(outtab, columns=['oplen','op','hp','rg'])"
   ]
  },
  {
   "cell_type": "code",
   "execution_count": 6,
   "metadata": {
    "scrolled": false
   },
   "outputs": [
    {
     "data": {
      "text/plain": [
       "op  hp\n",
       "D   2     12\n",
       "M   1     11\n",
       "Name: hp, dtype: int64"
      ]
     },
     "execution_count": 6,
     "metadata": {},
     "output_type": "execute_result"
    }
   ],
   "source": [
    "outtab.query('rg==\"mic\"').groupby('op')['hp'].value_counts()"
   ]
  },
  {
   "cell_type": "code",
   "execution_count": 7,
   "metadata": {
    "scrolled": false
   },
   "outputs": [
    {
     "data": {
      "text/plain": [
       "rg   op  hp\n",
       "mac  D   1     13\n",
       "     M   2     22\n",
       "         1      2\n",
       "mic  D   2     12\n",
       "     M   1     11\n",
       "Name: hp, dtype: int64"
      ]
     },
     "execution_count": 7,
     "metadata": {},
     "output_type": "execute_result"
    }
   ],
   "source": [
    "outtab.groupby(['rg','op'])['hp'].value_counts()"
   ]
  },
  {
   "cell_type": "code",
   "execution_count": 8,
   "metadata": {},
   "outputs": [],
   "source": [
    "# import IES features from GFF file\n",
    "mac_ies_gff_file = '../bleties/LmagMAC.LmagMAC.milraa_ies_fuzzy.no_overlap_repeats.gff3'\n",
    "mac_ies_features = pybedtools.BedTool(mac_ies_gff_file)\n",
    "\n",
    "mic_ies_gff_file = '../bleties/LmagMIC.LmagMAC.milraa_ies_fuzzy.no_overlap_repeats.gff3'\n",
    "mic_ies_features = pybedtools.BedTool(mic_ies_gff_file)\n",
    "\n",
    "#ies_gff_file_test = 'mic.milraa.flye-comb_LmagMAC.milraa_ies_fuzzy.no_overlap_repeats.scaffold_291.gff3'\n",
    "#ies_features_test = pybedtools.BedTool(ies_gff_file_test)"
   ]
  },
  {
   "cell_type": "code",
   "execution_count": 9,
   "metadata": {
    "scrolled": false
   },
   "outputs": [],
   "source": [
    "def get_ies_reads_haplotag(ies, sam, min_average_cov=10, max_average_cov=20):\n",
    "    \"\"\"\n",
    "    Get haplotags of reads with and without a given putative indel\n",
    "    \n",
    "    Putative \"IESs\" may turn out to be allelic variants. To help diagnose this, \n",
    "    this function takes the IESs reported by BleTIES MILRAA and mapped reads\n",
    "    haplotagged with WhatsHap, and reports the haplotag of reads with and\n",
    "    without the \"IES\" indel. If they are allelic in origin, then the indel\n",
    "    should mostly correlate with the haplotag.\n",
    "    \n",
    "    Parameters\n",
    "    ----------\n",
    "    ies : pybedtools.cbedtools.Interval\n",
    "        IES interval from BleTIES MILRAA (ccs mode). Must contain attributes:\n",
    "        `cigar`, `average_coverage`\n",
    "    sam : pysam.libcalignmentfile.AlignmentFile\n",
    "        Pysam object representing mapped, haplotagged reads, containing RG and HP tags\n",
    "    min_average_cov : int\n",
    "    max_average_cov : int\n",
    "        Min and max values of average_coverage attribute in IES feature to accept. Values\n",
    "        outside this range are considered to be coverage anomalies\n",
    "        \n",
    "    Returns\n",
    "    -------\n",
    "    dict\n",
    "        key1 - read group tag (RG) from BAM file\n",
    "        key2 - 'with' or 'without', i.e. whether given read contains putative IES indel\n",
    "        value - list of haplotype tags (HP) from BAM file for each read belonging to the \n",
    "          given read group and IES presence/absence, otherwise 0 if read not haplotagged\n",
    "    \"\"\"\n",
    "    hp = defaultdict(lambda: defaultdict(list))\n",
    "    # Exclude coverage anomalies\n",
    "    if int(ies.attrs['average_coverage']) <= max_average_cov \\\n",
    "      and int(ies.attrs['average_coverage']) >= min_average_cov:\n",
    "        if ies.fields[2] == 'internal_eliminated_sequence_junction':\n",
    "            # zero-length feature, junction is to the LEFT of reftargetpos\n",
    "            reftargetpos = ies.end\n",
    "        elif ies.fields[2] == 'internal_eliminated_sequence':\n",
    "            # finite-length feature, start is reftargetpos\n",
    "            reftargetpos = ies.start\n",
    "        # get cigars representing the indel\n",
    "        cigs = ies.attrs['cigar'].split(' ')\n",
    "        # split cigar from coverage\n",
    "        cigs = {i.split(\"*\")[0]:i.split(\"*\")[1] for i in cigs}\n",
    "        # get reads mapping to target location\n",
    "        iter = sam.fetch(ies.chrom, ies.start, ies.stop)\n",
    "        for read in iter:\n",
    "            ops = get_op_ref_pos(reftargetpos, read.reference_start, read.cigartuples)\n",
    "            if not read.is_secondary and not read.is_supplementary:\n",
    "                if ops:\n",
    "                    ops_string = str(ops[0]) + str(ops[1])\n",
    "                    if ops_string in cigs:\n",
    "                        if read.has_tag('HP'):\n",
    "                            hp[read.get_tag('RG')]['with'].append(read.get_tag('HP'))\n",
    "                        else:\n",
    "                            hp[read.get_tag('RG')]['with'].append(0)\n",
    "                    else:\n",
    "                        if read.has_tag('HP'):\n",
    "                            hp[read.get_tag('RG')]['without'].append(read.get_tag('HP'))\n",
    "                        else:\n",
    "                            hp[read.get_tag('RG')]['without'].append(0)\n",
    "        return(hp)"
   ]
  },
  {
   "cell_type": "markdown",
   "metadata": {},
   "source": [
    "# Plot fraction of indel +/- reads with haplotag 1 vs. 2"
   ]
  },
  {
   "cell_type": "code",
   "execution_count": 10,
   "metadata": {},
   "outputs": [],
   "source": [
    "def compare_haplotags_with_without(ies_features, sam, rg):\n",
    "    \"\"\"\n",
    "    Tabulate haplotags for reads with/without putative IES indels\n",
    "    \n",
    "    Haplotags have the following values: 0 (untagged), 1, 2.\n",
    "    \n",
    "    The output is used to determine whether putative IES features are\n",
    "    actually correlated with SNP haplotypes.\n",
    "    \n",
    "    Parameters\n",
    "    ----------\n",
    "    ies_features : pybedtools.bedtool.BedTool\n",
    "        IES feature table in GFF format produced by BleTIES MILRAA (CCS mode)\n",
    "        and imported with pybedtools\n",
    "    sam : pysam.libcalignmentfile.AlignmentFile\n",
    "        Pysam object representing mapped, haplotagged reads, containing RG and HP tags\n",
    "    rg : str\n",
    "        Which read group (RG tag) to process\n",
    "        \n",
    "    Returns\n",
    "    -------\n",
    "    pd.DataFrame\n",
    "        With the following columns:\n",
    "         - bpid : IES identifier (ID field from GFF)\n",
    "         - indel : Status, either 'with' or 'without' putative IES indel\n",
    "         - notag : Number of reads with no haplotag\n",
    "         - tag1 : Number of reads tagged as haplotype 1\n",
    "         - tag2 : Number of reads tagged as haplotype 2\n",
    "    \"\"\"\n",
    "    tbl = []\n",
    "    for ies in ies_features:\n",
    "        hp = get_ies_reads_haplotag(ies, sam, min_average_cov=5, max_average_cov=20)\n",
    "        if hp:\n",
    "            hp_with = []\n",
    "            hp_without = []\n",
    "            #for rg in hp:\n",
    "            if rg in hp:\n",
    "                hp_with.extend(hp[rg]['with'])\n",
    "                hp_without.extend(hp[rg]['without'])\n",
    "            out1 = [ies.name,\n",
    "                   'with',\n",
    "                   len([i for i in hp_with if i == 0]),\n",
    "                   len([i for i in hp_with if i == 1]),\n",
    "                   len([i for i in hp_with if i == 2])]\n",
    "            out2 = [ies.name,\n",
    "                   'without',\n",
    "                   len([i for i in hp_without if i == 0]),\n",
    "                   len([i for i in hp_without if i == 1]),\n",
    "                   len([i for i in hp_without if i == 2])]\n",
    "            tbl.append(out1)\n",
    "            tbl.append(out2)\n",
    "    tbl_df = pd.DataFrame(tbl, columns=['bpid','indel','notag','tag1','tag2'])\n",
    "    return(tbl_df)"
   ]
  },
  {
   "cell_type": "code",
   "execution_count": 11,
   "metadata": {},
   "outputs": [],
   "source": [
    "tbl_mac_df = compare_haplotags_with_without(mac_ies_features, sam, 'mac')\n",
    "tbl_mac_df['sum_tag'] = tbl_mac_df['tag1'] + tbl_mac_df['tag2']\n",
    "tbl_mac_df['tag1_frac'] = tbl_mac_df['tag1'] / tbl_mac_df['sum_tag']"
   ]
  },
  {
   "cell_type": "code",
   "execution_count": 16,
   "metadata": {
    "scrolled": false
   },
   "outputs": [
    {
     "data": {
      "text/plain": [
       "<AxesSubplot:>"
      ]
     },
     "execution_count": 16,
     "metadata": {},
     "output_type": "execute_result"
    },
    {
     "data": {
      "image/png": "[encoded data removed]",
      "text/plain": [
       "<Figure size 640x480 with 1 Axes>"
      ]
     },
     "metadata": {},
     "output_type": "display_data"
    }
   ],
   "source": [
    "# Check the distribution of coverage values for haplotagged reads spanning putative IESs\n",
    "# to determine a suitable cutoff\n",
    "tbl_mac_df['sum_tag'].hist()"
   ]
  },
  {
   "cell_type": "code",
   "execution_count": 18,
   "metadata": {},
   "outputs": [],
   "source": [
    "tbl_mic_df = compare_haplotags_with_without(mic_ies_features, sam, 'mic')\n",
    "tbl_mic_df['sum_tag'] = tbl_mic_df['tag1'] + tbl_mic_df['tag2']\n",
    "tbl_mic_df['tag1_frac'] = tbl_mic_df['tag1'] / tbl_mic_df['sum_tag']\n",
    "#tbl_mic_df_pivot = tbl_mic_df.pivot(index='bpid', columns='indel',values='tag1_frac').reset_index()"
   ]
  },
  {
   "cell_type": "code",
   "execution_count": 19,
   "metadata": {},
   "outputs": [
    {
     "data": {
      "text/plain": [
       "<AxesSubplot:>"
      ]
     },
     "execution_count": 19,
     "metadata": {},
     "output_type": "execute_result"
    },
    {
     "data": {
      "image/png": "[encoded data removed]",
      "text/plain": [
       "<Figure size 640x480 with 1 Axes>"
      ]
     },
     "metadata": {},
     "output_type": "display_data"
    }
   ],
   "source": [
    "# Check the distribution of coverage values for haplotagged reads spanning putative IESs\n",
    "# to determine a suitable cutoff\n",
    "tbl_mic_df['sum_tag'].hist()"
   ]
  },
  {
   "cell_type": "code",
   "execution_count": 20,
   "metadata": {},
   "outputs": [],
   "source": [
    "# Pivot to summarize haplotype ratio per indel for reads with vs. without indel\n",
    "# Filter out indels with low coverage\n",
    "\n",
    "# MAC\n",
    "tbl_mac_df_pivot = pd.DataFrame(\n",
    "    tbl_mac_df.pivot(index='bpid', columns='indel', values=['sum_tag','tag1_frac']).to_records()\n",
    ")\n",
    "# Rename columns\n",
    "tbl_mac_df_pivot.columns = ['bpid','sum_tag_with','sum_tag_without','tag1_frac_with','tag1_frac_without']\n",
    "\n",
    "# MIC\n",
    "tbl_mic_df_pivot = pd.DataFrame(\n",
    "    tbl_mic_df.pivot(index='bpid', columns='indel', values=['sum_tag','tag1_frac']).to_records()\n",
    ")\n",
    "# Rename columns\n",
    "tbl_mic_df_pivot.columns = ['bpid','sum_tag_with','sum_tag_without','tag1_frac_with','tag1_frac_without']"
   ]
  },
  {
   "cell_type": "code",
   "execution_count": 21,
   "metadata": {},
   "outputs": [
    {
     "data": {
      "text/html": [
       "<div>\n",
       "<style scoped>\n",
       "    .dataframe tbody tr th:only-of-type {\n",
       "        vertical-align: middle;\n",
       "    }\n",
       "\n",
       "    .dataframe tbody tr th {\n",
       "        vertical-align: top;\n",
       "    }\n",
       "\n",
       "    .dataframe thead th {\n",
       "        text-align: right;\n",
       "    }\n",
       "</style>\n",
       "<table border=\"1\" class=\"dataframe\">\n",
       "  <thead>\n",
       "    <tr style=\"text-align: right;\">\n",
       "      <th></th>\n",
       "      <th>bpid</th>\n",
       "      <th>sum_tag_with</th>\n",
       "      <th>sum_tag_without</th>\n",
       "      <th>tag1_frac_with</th>\n",
       "      <th>tag1_frac_without</th>\n",
       "    </tr>\n",
       "  </thead>\n",
       "  <tbody>\n",
       "    <tr>\n",
       "      <th>0</th>\n",
       "      <td>BREAK_POINTS_000001F_1696593_1696622_30</td>\n",
       "      <td>8.0</td>\n",
       "      <td>8.0</td>\n",
       "      <td>1.0</td>\n",
       "      <td>0.0</td>\n",
       "    </tr>\n",
       "    <tr>\n",
       "      <th>1</th>\n",
       "      <td>BREAK_POINTS_000001F_2025631_2025631_19</td>\n",
       "      <td>8.0</td>\n",
       "      <td>11.0</td>\n",
       "      <td>1.0</td>\n",
       "      <td>0.0</td>\n",
       "    </tr>\n",
       "    <tr>\n",
       "      <th>2</th>\n",
       "      <td>BREAK_POINTS_000001F_2322016_2322033_18</td>\n",
       "      <td>7.0</td>\n",
       "      <td>10.0</td>\n",
       "      <td>0.0</td>\n",
       "      <td>0.9</td>\n",
       "    </tr>\n",
       "    <tr>\n",
       "      <th>3</th>\n",
       "      <td>BREAK_POINTS_000002F_119950_119950_178</td>\n",
       "      <td>7.0</td>\n",
       "      <td>9.0</td>\n",
       "      <td>0.0</td>\n",
       "      <td>1.0</td>\n",
       "    </tr>\n",
       "    <tr>\n",
       "      <th>4</th>\n",
       "      <td>BREAK_POINTS_000002F_120591_120615_25</td>\n",
       "      <td>7.0</td>\n",
       "      <td>9.0</td>\n",
       "      <td>0.0</td>\n",
       "      <td>1.0</td>\n",
       "    </tr>\n",
       "  </tbody>\n",
       "</table>\n",
       "</div>"
      ],
      "text/plain": [
       "                                      bpid  sum_tag_with  sum_tag_without  \\\n",
       "0  BREAK_POINTS_000001F_1696593_1696622_30           8.0              8.0   \n",
       "1  BREAK_POINTS_000001F_2025631_2025631_19           8.0             11.0   \n",
       "2  BREAK_POINTS_000001F_2322016_2322033_18           7.0             10.0   \n",
       "3   BREAK_POINTS_000002F_119950_119950_178           7.0              9.0   \n",
       "4    BREAK_POINTS_000002F_120591_120615_25           7.0              9.0   \n",
       "\n",
       "   tag1_frac_with  tag1_frac_without  \n",
       "0             1.0                0.0  \n",
       "1             1.0                0.0  \n",
       "2             0.0                0.9  \n",
       "3             0.0                1.0  \n",
       "4             0.0                1.0  "
      ]
     },
     "execution_count": 21,
     "metadata": {},
     "output_type": "execute_result"
    }
   ],
   "source": [
    "tbl_mac_df_pivot.head()"
   ]
  },
  {
   "cell_type": "code",
   "execution_count": 22,
   "metadata": {},
   "outputs": [
    {
     "data": {
      "text/html": [
       "<div>\n",
       "<style scoped>\n",
       "    .dataframe tbody tr th:only-of-type {\n",
       "        vertical-align: middle;\n",
       "    }\n",
       "\n",
       "    .dataframe tbody tr th {\n",
       "        vertical-align: top;\n",
       "    }\n",
       "\n",
       "    .dataframe thead th {\n",
       "        text-align: right;\n",
       "    }\n",
       "</style>\n",
       "<table border=\"1\" class=\"dataframe\">\n",
       "  <thead>\n",
       "    <tr style=\"text-align: right;\">\n",
       "      <th></th>\n",
       "      <th>bpid</th>\n",
       "      <th>indel</th>\n",
       "      <th>notag</th>\n",
       "      <th>tag1</th>\n",
       "      <th>tag2</th>\n",
       "      <th>sum_tag</th>\n",
       "      <th>tag1_frac</th>\n",
       "    </tr>\n",
       "  </thead>\n",
       "  <tbody>\n",
       "    <tr>\n",
       "      <th>0</th>\n",
       "      <td>BREAK_POINTS_FUZZY_000001F_1694150_1694150_56.5</td>\n",
       "      <td>with</td>\n",
       "      <td>0</td>\n",
       "      <td>9</td>\n",
       "      <td>0</td>\n",
       "      <td>9</td>\n",
       "      <td>1.000000</td>\n",
       "    </tr>\n",
       "    <tr>\n",
       "      <th>1</th>\n",
       "      <td>BREAK_POINTS_FUZZY_000001F_1694150_1694150_56.5</td>\n",
       "      <td>without</td>\n",
       "      <td>0</td>\n",
       "      <td>1</td>\n",
       "      <td>10</td>\n",
       "      <td>11</td>\n",
       "      <td>0.090909</td>\n",
       "    </tr>\n",
       "    <tr>\n",
       "      <th>2</th>\n",
       "      <td>BREAK_POINTS_000001F_1696593_1696622_30</td>\n",
       "      <td>with</td>\n",
       "      <td>0</td>\n",
       "      <td>8</td>\n",
       "      <td>0</td>\n",
       "      <td>8</td>\n",
       "      <td>1.000000</td>\n",
       "    </tr>\n",
       "    <tr>\n",
       "      <th>3</th>\n",
       "      <td>BREAK_POINTS_000001F_1696593_1696622_30</td>\n",
       "      <td>without</td>\n",
       "      <td>0</td>\n",
       "      <td>0</td>\n",
       "      <td>8</td>\n",
       "      <td>8</td>\n",
       "      <td>0.000000</td>\n",
       "    </tr>\n",
       "    <tr>\n",
       "      <th>4</th>\n",
       "      <td>BREAK_POINTS_000001F_2025631_2025631_19</td>\n",
       "      <td>with</td>\n",
       "      <td>0</td>\n",
       "      <td>8</td>\n",
       "      <td>0</td>\n",
       "      <td>8</td>\n",
       "      <td>1.000000</td>\n",
       "    </tr>\n",
       "  </tbody>\n",
       "</table>\n",
       "</div>"
      ],
      "text/plain": [
       "                                              bpid    indel  notag  tag1  \\\n",
       "0  BREAK_POINTS_FUZZY_000001F_1694150_1694150_56.5     with      0     9   \n",
       "1  BREAK_POINTS_FUZZY_000001F_1694150_1694150_56.5  without      0     1   \n",
       "2          BREAK_POINTS_000001F_1696593_1696622_30     with      0     8   \n",
       "3          BREAK_POINTS_000001F_1696593_1696622_30  without      0     0   \n",
       "4          BREAK_POINTS_000001F_2025631_2025631_19     with      0     8   \n",
       "\n",
       "   tag2  sum_tag  tag1_frac  \n",
       "0     0        9   1.000000  \n",
       "1    10       11   0.090909  \n",
       "2     0        8   1.000000  \n",
       "3     8        8   0.000000  \n",
       "4     0        8   1.000000  "
      ]
     },
     "execution_count": 22,
     "metadata": {},
     "output_type": "execute_result"
    }
   ],
   "source": [
    "tbl_mac_df.head()"
   ]
  },
  {
   "cell_type": "code",
   "execution_count": 23,
   "metadata": {},
   "outputs": [
    {
     "name": "stdout",
     "output_type": "stream",
     "text": [
      "Total putative IESs annotated:\n",
      "12897\n",
      "No. putative IESs covered by haplotagged MAC reads:\n",
      "2472\n",
      "No. putative IESs with >2 haplotagged reads per haplotype spanning:\n",
      "1294\n"
     ]
    }
   ],
   "source": [
    "print(\"Total putative IESs annotated:\")\n",
    "print(len(mac_ies_features))\n",
    "print(\"No. putative IESs covered by haplotagged MAC reads:\")\n",
    "print(int(len(tbl_mac_df)/2)) # divide by two because there are two rows for each indel\n",
    "print(\"No. putative IESs with >2 haplotagged reads per haplotype spanning:\")\n",
    "print(tbl_mac_df_pivot.query('sum_tag_with > 2 and sum_tag_without > 2').shape[0])"
   ]
  },
  {
   "cell_type": "code",
   "execution_count": 24,
   "metadata": {},
   "outputs": [
    {
     "name": "stdout",
     "output_type": "stream",
     "text": [
      "Total putative IESs annotated:\n",
      "13734\n",
      "No. putative IESs covered by haplotagged MIC reads:\n",
      "3068\n",
      "No. putative IESs with >2 haplotagged reads per haplotype spanning:\n",
      "1626\n"
     ]
    }
   ],
   "source": [
    "print(\"Total putative IESs annotated:\")\n",
    "print(len(mic_ies_features))\n",
    "print(\"No. putative IESs covered by haplotagged MIC reads:\")\n",
    "print(int(len(tbl_mic_df)/2)) # divide by two because there are two rows for each indel\n",
    "print(\"No. putative IESs with >2 haplotagged reads per haplotype spanning:\")\n",
    "print(tbl_mic_df_pivot.query('sum_tag_with > 2 and sum_tag_without > 2').shape[0])"
   ]
  },
  {
   "cell_type": "code",
   "execution_count": 25,
   "metadata": {},
   "outputs": [
    {
     "data": {
      "text/plain": [
       "0.7047913446676971"
      ]
     },
     "execution_count": 25,
     "metadata": {},
     "output_type": "execute_result"
    }
   ],
   "source": [
    "(tbl_mac_df_pivot.query('sum_tag_with > 2 and sum_tag_without > 2').query('tag1_frac_with >=0.9 and tag1_frac_without <=0.1').shape[0]\n",
    " + tbl_mac_df_pivot.query('sum_tag_with > 2 and sum_tag_without > 2').query('tag1_frac_without >=0.9 and tag1_frac_with <=0.1').shape[0]) / tbl_mac_df_pivot.query('sum_tag_with > 2 and sum_tag_without > 2').shape[0]"
   ]
  },
  {
   "cell_type": "code",
   "execution_count": 26,
   "metadata": {},
   "outputs": [
    {
     "data": {
      "text/plain": [
       "0.6340713407134071"
      ]
     },
     "execution_count": 26,
     "metadata": {},
     "output_type": "execute_result"
    }
   ],
   "source": [
    "(tbl_mic_df_pivot.query('sum_tag_with > 2 and sum_tag_without > 2').query('tag1_frac_with >=0.9 and tag1_frac_without <=0.1').shape[0]\n",
    " + tbl_mic_df_pivot.query('sum_tag_with > 2 and sum_tag_without > 2').query('tag1_frac_without >=0.9 and tag1_frac_with <=0.1').shape[0]) / tbl_mic_df_pivot.query('sum_tag_with > 2 and sum_tag_without > 2').shape[0]"
   ]
  },
  {
   "cell_type": "markdown",
   "metadata": {},
   "source": [
    "# Visualize correlation of indels with haplotypes\n",
    "\n",
    "For each indel site, plot the fraction of haplotype-1 reads with the indel vs. the fraction without the indel. If indels and haplotypes are perfectly correlated, then either 100% of reads with the indel are haplotype 1, or 100% of reads with the indel are haplotype 2. "
   ]
  },
  {
   "cell_type": "code",
   "execution_count": 27,
   "metadata": {},
   "outputs": [
    {
     "data": {
      "image/png": "[encoded data removed]",
      "text/plain": [
       "<Figure size 600x600 with 3 Axes>"
      ]
     },
     "metadata": {},
     "output_type": "display_data"
    }
   ],
   "source": [
    "sns.jointplot(\n",
    "    data=tbl_mac_df_pivot.query('sum_tag_with > 2 and sum_tag_without > 2'),\n",
    "    x='tag1_frac_with', y='tag1_frac_without', kind='hist', binwidth=0.1)\n",
    "plt.xlabel(\"With putative IES indel\")\n",
    "plt.ylabel(\"Without putative IES indel\")\n",
    "plt.savefig('plots/putative_ies.mac_reads.vs.mac_asm_haplotag_ratios.png')\n",
    "plt.savefig('plots/putative_ies.mac_reads.vs.mac_asm_haplotag_ratios.pdf')"
   ]
  },
  {
   "cell_type": "code",
   "execution_count": 28,
   "metadata": {},
   "outputs": [
    {
     "data": {
      "image/png": "[encoded data removed]",
      "text/plain": [
       "<Figure size 600x600 with 3 Axes>"
      ]
     },
     "metadata": {},
     "output_type": "display_data"
    }
   ],
   "source": [
    "sns.jointplot(\n",
    "    data=tbl_mic_df_pivot.query('sum_tag_with > 2 and sum_tag_without > 2'), \n",
    "    x='tag1_frac_with', y='tag1_frac_without', kind='hist', binwidth=0.1)\n",
    "plt.xlabel(\"With putative IES indel\")\n",
    "plt.ylabel(\"Without putative IES indel\")\n",
    "plt.savefig('plots/putative_ies.mic_reads.vs.mic_asm_haplotag_ratios.png')\n",
    "plt.savefig('plots/putative_ies.mic_reads.vs.mic_asm_haplotag_ratios.pdf')"
   ]
  },
  {
   "cell_type": "code",
   "execution_count": 29,
   "metadata": {
    "scrolled": false
   },
   "outputs": [
    {
     "data": {
      "text/html": [
       "<div>\n",
       "<style scoped>\n",
       "    .dataframe tbody tr th:only-of-type {\n",
       "        vertical-align: middle;\n",
       "    }\n",
       "\n",
       "    .dataframe tbody tr th {\n",
       "        vertical-align: top;\n",
       "    }\n",
       "\n",
       "    .dataframe thead th {\n",
       "        text-align: right;\n",
       "    }\n",
       "</style>\n",
       "<table border=\"1\" class=\"dataframe\">\n",
       "  <thead>\n",
       "    <tr style=\"text-align: right;\">\n",
       "      <th></th>\n",
       "      <th>bpid</th>\n",
       "      <th>indel</th>\n",
       "      <th>notag</th>\n",
       "      <th>tag1</th>\n",
       "      <th>tag2</th>\n",
       "      <th>sum_tag</th>\n",
       "      <th>tag1_frac</th>\n",
       "    </tr>\n",
       "  </thead>\n",
       "  <tbody>\n",
       "    <tr>\n",
       "      <th>32</th>\n",
       "      <td>BREAK_POINTS_000003F_841992_841992_47</td>\n",
       "      <td>with</td>\n",
       "      <td>0</td>\n",
       "      <td>0</td>\n",
       "      <td>3</td>\n",
       "      <td>3</td>\n",
       "      <td>0.0</td>\n",
       "    </tr>\n",
       "    <tr>\n",
       "      <th>33</th>\n",
       "      <td>BREAK_POINTS_000003F_841992_841992_47</td>\n",
       "      <td>without</td>\n",
       "      <td>0</td>\n",
       "      <td>6</td>\n",
       "      <td>6</td>\n",
       "      <td>12</td>\n",
       "      <td>0.5</td>\n",
       "    </tr>\n",
       "  </tbody>\n",
       "</table>\n",
       "</div>"
      ],
      "text/plain": [
       "                                     bpid    indel  notag  tag1  tag2  \\\n",
       "32  BREAK_POINTS_000003F_841992_841992_47     with      0     0     3   \n",
       "33  BREAK_POINTS_000003F_841992_841992_47  without      0     6     6   \n",
       "\n",
       "    sum_tag  tag1_frac  \n",
       "32        3        0.0  \n",
       "33       12        0.5  "
      ]
     },
     "execution_count": 29,
     "metadata": {},
     "output_type": "execute_result"
    }
   ],
   "source": [
    "tbl_mic_df.query('bpid==\"BREAK_POINTS_000003F_841992_841992_47\"')"
   ]
  },
  {
   "cell_type": "markdown",
   "metadata": {},
   "source": [
    "Inspect a few IESs manually"
   ]
  },
  {
   "cell_type": "code",
   "execution_count": 30,
   "metadata": {
    "scrolled": false
   },
   "outputs": [
    {
     "name": "stdout",
     "output_type": "stream",
     "text": [
      "BREAK_POINTS_FUZZY_000001F_1694150_1694150_56.5\n",
      "mac\n",
      "  with 1 1 1 1 1 1 1 1 1\n",
      "  without 2 2 1 2 2 2 2 2 2 2 2\n",
      "mic\n",
      "  with 2 2 2 2 2 2 2 2 2 2 2 2 2 2 2\n",
      "  without 1 2 1 1 1 1 1 1 1 1 1 1 1 1\n",
      "\n",
      "BREAK_POINTS_000001F_1696593_1696622_30\n",
      "mac\n",
      "  with 1 1 1 1 1 1 1 1\n",
      "  without 2 2 2 2 2 2 2 2\n",
      "mic\n",
      "  without 1 2 1 1 1 1 1 1 1 1 1 1 1 1\n",
      "  with 2 2 2 2 2 2 2 2 2 2 2 2\n",
      "\n",
      "BREAK_POINTS_000001F_2025631_2025631_19\n",
      "mic\n",
      "  without 1 1 1 1 1 1 1 1 1 1 1 1 1 1\n",
      "  with 2 2 2 2 2 2 2 2 2 2 2\n",
      "mac\n",
      "  without 2 2 2 2 2 2 2 2 2 2 2\n",
      "  with 1 1 1 1 1 1 1 1\n",
      "\n",
      "BREAK_POINTS_000001F_2322016_2322033_18\n",
      "mic\n",
      "  with 2 2 2 2 2 2 2 2 2 2 2 2\n",
      "  without 1 1 1 1 1 1 1 1 1 1 1 1 1 1 1 1 1 1\n",
      "mac\n",
      "  without 2 1 1 1 1 1 1 1 1 1\n",
      "  with 2 2 2 2 2 2 2\n",
      "\n",
      "BREAK_POINTS_FUZZY_000002F_64356_64356_116.5\n",
      "mic\n",
      "  with 2 2 2 2 2 2 0 2 2 2 2 2 2 2 2 2 2 2\n",
      "mac\n",
      "  with 1 1 1 1 1 1 1 1 1 1 1 1\n",
      "\n",
      "BREAK_POINTS_000002F_119950_119950_178\n",
      "mac\n",
      "  without 1 1 1 1 1 1 1 1 1\n",
      "  with 2 2 2 2 2 2 2\n",
      "mic\n",
      "  with 1 1 1 1 1 1 1 1 1\n",
      "  without 2 2 2 2 2 2 2 2 2 2 2 2 2 2 2 2\n",
      "\n",
      "BREAK_POINTS_000002F_120591_120615_25\n",
      "mac\n",
      "  without 1 1 1 1 1 1 1 1 1\n",
      "  with 2 2 2 2 2 2 2\n",
      "mic\n",
      "  with 1 1 1 1 1 1 1 1\n",
      "  without 2 2 2 2 2 2 2 2 2 2 2 2 2 2 2 2 2\n",
      "\n",
      "BREAK_POINTS_000002F_381668_381668_23\n",
      "mic\n",
      "  without 1 1 1 1 1\n",
      "  with 2 2 2 2 2 2 2 2 2 2 2 2 2 2 2\n",
      "mac\n",
      "  with 2 2 2 2 2 2 2 2 2 2 2\n",
      "  without 1 1 1 1\n",
      "\n",
      "BREAK_POINTS_000003F_384927_384989_63\n",
      "mic\n",
      "  without 2 2 2 2 2 2 2 2 2 2 2 2 2 2 2\n",
      "  with 1 1 1 1 1 1 1 1 1 1 1 1 1 1 1 1 1 1 1\n",
      "mac\n",
      "  with 1 1 1 1 1 1 1\n",
      "  without 2 2 2 2 2 2 2 2 2 2\n",
      "\n",
      "BREAK_POINTS_000003F_395711_395753_43\n",
      "mic\n",
      "  with 1 1 1 1 1 1 1 1 1 1 1 1\n",
      "  without 2 2 2 2 2 2 2 2 2 2 2 2 2 2\n",
      "mac\n",
      "  without 2 2 2 2 2 2 2 2\n",
      "  with 1 1 1 1 1 1 1 1\n",
      "\n"
     ]
    }
   ],
   "source": [
    "for ies in mac_ies_features[0:100]:\n",
    "    #print(ies.name)\n",
    "    hp = get_ies_reads_haplotag(ies, sam, min_average_cov=5, max_average_cov=20)\n",
    "    if hp:\n",
    "        print(ies.name)\n",
    "        for k1 in hp:\n",
    "            print (k1)\n",
    "            for k2 in hp[k1]:\n",
    "                print(\"  \" + k2 + \" \" + \" \".join([str(i) for i in hp[k1][k2]]))\n",
    "        print(\"\")"
   ]
  }
 ],
 "metadata": {
  "kernelspec": {
   "display_name": "Python [conda env:bio-env]",
   "language": "python",
   "name": "conda-env-bio-env-py"
  },
  "language_info": {
   "codemirror_mode": {
    "name": "ipython",
    "version": 3
   },
   "file_extension": ".py",
   "mimetype": "text/x-python",
   "name": "python",
   "nbconvert_exporter": "python",
   "pygments_lexer": "ipython3",
   "version": "3.10.5"
  }
 },
 "nbformat": 4,
 "nbformat_minor": 2
}
